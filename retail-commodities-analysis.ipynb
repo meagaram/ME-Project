{
 "cells": [
  {
   "cell_type": "markdown",
   "metadata": {},
   "source": [
    "# Libraries Import"
   ]
  },
  {
   "cell_type": "code",
   "execution_count": 1,
   "metadata": {},
   "outputs": [],
   "source": [
    "import pyspark\n",
    "from pyspark.sql import SparkSession\n",
    "from pyspark.sql.functions import *\n",
    "from pyspark.sql.types import *\n",
    "\n",
    "import numpy as np # linear algebra\n",
    "import pandas as pd\n",
    "\n",
    "import matplotlib.pyplot as plt\n",
    "import seaborn as sns \n",
    "\n",
    "from pyspark.ml.feature import OneHotEncoder, StringIndexer\n",
    "from pyspark.ml.feature import VectorAssembler"
   ]
  },
  {
   "cell_type": "markdown",
   "metadata": {},
   "source": [
    "# Read Files"
   ]
  },
  {
   "cell_type": "code",
   "execution_count": 2,
   "metadata": {},
   "outputs": [],
   "source": [
    "m_food_retail_price_path = r'D:\\ME\\Project\\RetailCommoditiesPrice\\Monthly_Food_Retail_Prices.csv'\n",
    "m_nonfood_retail_price_path = r'D:\\ME\\Project\\RetailCommoditiesPrice\\Monthly_Non_Food_Retail_Prices.csv'\n",
    "w_food_retail_price_path = r'D:\\ME\\Project\\RetailCommoditiesPrice\\Weekly_Food_Retail_Prices.csv'\n",
    "w_nonfood_retail_price_path = r'D:\\ME\\Project\\RetailCommoditiesPrice\\Weekly_Non_Food_Retail_Prices.csv'"
   ]
  },
  {
   "cell_type": "code",
   "execution_count": 3,
   "metadata": {},
   "outputs": [],
   "source": [
    "conf = pyspark.SparkConf().setMaster(\"local[*]\") \\\n",
    "        .set('spark.executor.heartbeatInterval', 10000) \\\n",
    "        .set('spark.network.timeout', 10000) \\\n",
    "        .set(\"spark.core.connection.ack.wait.timeout\", \"3600\") \\\n",
    "        .set(\"spark.executor.memory\", '15G') \\\n",
    "        .set(\"spark.driver.memory\", '15G')\n",
    "\n",
    "spark = SparkSession \\\n",
    "        .builder \\\n",
    "        .appName(\"Retail-Commodities-Price-PySpark\") \\\n",
    "        .config(conf=conf) \\\n",
    "        .getOrCreate()"
   ]
  },
  {
   "cell_type": "code",
   "execution_count": 4,
   "metadata": {},
   "outputs": [],
   "source": [
    "# Load datasets\n",
    "m_food_retail_price_raw = spark.read.option(\"header\",True).csv(m_food_retail_price_path)\n",
    "m_nonfood_retail_price_raw = spark.read.option(\"header\",True).csv(m_nonfood_retail_price_path)\n",
    "w_food_retail_price_raw = spark.read.option(\"header\",True).csv(w_food_retail_price_path)\n",
    "w_nonfood_retail_price_raw = spark.read.option(\"header\",True).csv(w_nonfood_retail_price_path)"
   ]
  },
  {
   "cell_type": "markdown",
   "metadata": {},
   "source": [
    "# Defining Functions"
   ]
  },
  {
   "cell_type": "markdown",
   "metadata": {},
   "source": [
    "## Metadata"
   ]
  },
  {
   "cell_type": "code",
   "execution_count": 5,
   "metadata": {},
   "outputs": [],
   "source": [
    "def get_metadata(dataframe):\n",
    "    cols = dataframe.columns\n",
    "    print(\" STATISTICAL SUMMARY \".center(125, '#'))\n",
    "    print()\n",
    "    dataframe.summary().show()\n",
    "    print(\" SIZE OF DATAFRAME \".center(125, '#'))\n",
    "    print(\"Rows : \", dataframe.count())\n",
    "    print(\"Columns : \", len(dataframe.columns))\n",
    "    print(\" SCHEMA OF THE DATASET \".center(125, '#'))\n",
    "    dataframe.printSchema()\n",
    "    print(\" NULL VALUE COUNTS \".center(125, '#'))\n",
    "    print()\n",
    "    dataframe.select([count(when(col(c).isNull(), c)).alias(c) for c in cols]).show()\n",
    "    dup_count = dataframe.count()-dataframe.distinct().count()\n",
    "    print(f\" Number of duplicate Rows : {dup_count} \".center(125, '='))\n",
    "    print()\n",
    "    print(' SAMPLE VALUES IN EVERY COLUMN '.center(125, '#'))\n",
    "    for c in cols:\n",
    "        print(c)\n",
    "        col_list = [data[0] for data in dataframe.select(f'{c}').distinct().orderBy(col(f'{c}')).collect()]\n",
    "        print('Number of Distinct Values : ', len(col_list))\n",
    "        print(col_list[:100])\n",
    "    print(\" TYPES OF COLUMNS \".center(125, '#'))\n",
    "    print()\n",
    "    print(\"Categorical Columns : \", [item[0] for item in dataframe.dtypes if item[1].startswith('string')])\n",
    "    print(\"Numerical Columns: \", [item[0] for item in dataframe.dtypes if (item[1].startswith('integer') | item[1].startswith('double'))])\n",
    "    print()\n",
    "    # print(\" NEGATIVE-VALUED COLUMNS \".center(125, '#'))\n",
    "    # print()\n",
    "    # sql_expressions = [f'count(CASE WHEN ({col} < 0) THEN 1 END) AS {col}_count' for col in cols]\n",
    "    # dataframe.selectExpr(sql_expressions).show()\n",
    "    print(''.center(125, '#'))"
   ]
  },
  {
   "cell_type": "markdown",
   "metadata": {},
   "source": [
    "# EDA"
   ]
  },
  {
   "cell_type": "markdown",
   "metadata": {},
   "source": [
    "## Monthly Food Price"
   ]
  },
  {
   "cell_type": "code",
   "execution_count": 6,
   "metadata": {},
   "outputs": [
    {
     "name": "stdout",
     "output_type": "stream",
     "text": [
      "#################################################### STATISTICAL SUMMARY ####################################################\n",
      "\n",
      "+-------+--------------+--------------+---------+--------------+----------+--------+--------+-----------------+\n",
      "|summary|         State|        Centre|Commodity|       Variety|      Unit|Category|    Date|     Retail Price|\n",
      "+-------+--------------+--------------+---------+--------------+----------+--------+--------+-----------------+\n",
      "|  count|       1147446|       1147446|  1137726|        941868|   1147446| 1147446| 1147446|           578525|\n",
      "|   mean|          null|          null|     null|          null|      null|    null|    null|79.69144840758825|\n",
      "| stddev|          null|          null|     null|          null|      null|    null|    null| 148.780858660517|\n",
      "|    min|Andhra Pradesh|      Agartala|    Apple|Amul/Any Other|100gm. Pkt|    Food|APR-2001|             0.50|\n",
      "|    25%|          null|          null|     null|          null|      null|    null|    null|             18.0|\n",
      "|    50%|          null|          null|     null|          null|      null|    null|    null|             35.0|\n",
      "|    75%|          null|          null|     null|          null|      null|    null|    null|             80.0|\n",
      "|    max|   West Bengal|Vishakhapatnam|    Wheat|         Whole|     Peice|    Food|SEP-2020|           998.00|\n",
      "+-------+--------------+--------------+---------+--------------+----------+--------+--------+-----------------+\n",
      "\n",
      "##################################################### SIZE OF DATAFRAME #####################################################\n",
      "Rows :  1147446\n",
      "Columns :  8\n",
      "################################################### SCHEMA OF THE DATASET ###################################################\n",
      "root\n",
      " |-- State: string (nullable = true)\n",
      " |-- Centre: string (nullable = true)\n",
      " |-- Commodity: string (nullable = true)\n",
      " |-- Variety: string (nullable = true)\n",
      " |-- Unit: string (nullable = true)\n",
      " |-- Category: string (nullable = true)\n",
      " |-- Date: string (nullable = true)\n",
      " |-- Retail Price: string (nullable = true)\n",
      "\n",
      "##################################################### NULL VALUE COUNTS #####################################################\n",
      "\n",
      "+-----+------+---------+-------+----+--------+----+------------+\n",
      "|State|Centre|Commodity|Variety|Unit|Category|Date|Retail Price|\n",
      "+-----+------+---------+-------+----+--------+----+------------+\n",
      "|    0|     0|     9720| 205578|   0|       0|   0|      568921|\n",
      "+-----+------+---------+-------+----+--------+----+------------+\n",
      "\n",
      "============================================== Number of duplicate Rows : 2270 ==============================================\n",
      "\n",
      "############################################### SAMPLE VALUES IN EVERY COLUMN ###############################################\n",
      "State\n",
      "Number of Distinct Values :  30\n",
      "['Andhra Pradesh', 'Arunachal Pradesh', 'Assam', 'Bihar', 'Goa', 'Gujarat', 'Haryana', 'Himachal Pradesh', 'Jammu Kashmir', 'Jharkhand', 'Karnataka', 'Kerala', 'Madhya Pradesh', 'Maharashtra', 'Manipur', 'Meghalaya', 'Mizoram', 'Nagaland', 'National Capital', 'Orissa', 'Punjab', 'Rajasthan', 'Sikkim', 'Tamil Nadu', 'Telangana', 'Tripura', 'Union Territories', 'Uttar Pradesh', 'Uttarakhand', 'West Bengal']\n",
      "Centre\n",
      "Number of Distinct Values :  86\n",
      "['Agartala', 'Agra', 'Aizwal', 'Allahabad', 'Amritsar', 'Asansol', 'Aurangabad', 'Bangalore', 'Bhatinda', 'Bhawanipatna', 'Bhillai', 'Bhopal', 'Bhubneshwar', 'Bijapur', 'Chandigarh', 'Chennai', 'Chittoor', 'Coimbatore', 'Cuttack', 'Dausa', 'Delhi', 'Dhanbad', 'Dibrugarh', 'Dispur', 'Ernakulam', 'Gandhi Nagar', 'Gangtok', 'Gaya', 'Gorakhpur', 'Guntur', 'Guwahati', 'Gwalior', 'Hajipur', 'Haldwani', 'Hissar', 'Howrah', 'Hubli', 'Hyderabad', 'Imphal', 'Indore', 'Itanagar', 'Jaipur', 'Jalpaiguri', 'Jammu', 'Jodhpur', 'Kanpur', 'Karnal', 'Khozhikode', 'Kohima', 'Kolkata', 'Kurnool', 'Lucknow', 'Ludhiana', 'Madurai', 'Malda', 'Mandi', 'Mumbai', 'Muzaffarpur', 'Nagpur', 'Nasik', 'Panaji', 'Patna', 'Pondicherry', 'Portblair', 'Pune', 'Rajkot', 'Ranchi', 'Rewa', 'Saharanpur', 'Salem', 'Sehore', 'Shillong', 'Shimla', 'Shrinagar', 'Silchar', 'Silvasa', 'Srinagar', 'Surat', 'Swaimadhopur', 'Tambram', 'Tirunelveli', 'Trivandrum', 'Tumkur', 'Udaipur', 'Vadodra', 'Vishakhapatnam']\n",
      "Commodity\n",
      "Number of Distinct Values :  47\n",
      "[None, 'Apple', 'Arhar', 'Atta', 'Bajra', 'Banana', 'Besan', 'Biscuit', 'Black Pepper', 'Bread', 'Brinjal', 'Butter', 'Chicken', 'Coconut', 'Coconut Oil', 'Coffee', 'Coriander', 'Cummin Seed', 'Eggs', 'Fish', 'Ghee', 'Gingelly Oil', 'Gram', 'Groundnut Oil', 'Gur', 'Jowar', 'Maida', 'Maize', 'Masur', 'Meat', 'Milk', 'Moong', 'Mustard Oil', 'Onion', 'Potato', 'Ragi', 'Red Chillies', 'Rice', 'Salt', 'Sugar', 'Suji', 'Tea', 'Tomato', 'Turmeric', 'Urad', 'Vanaspati', 'Wheat']\n",
      "Variety\n",
      "Number of Distinct Values :  31\n",
      "[None, 'Amul/Any Other', 'Brooke Bond Red Label', 'Cat Fish', 'Common', 'Common/Coarse', 'Cow/Buffalo', 'Ctc(loose)', 'Dairy', 'Delicious medium size', 'Desi', 'Dry', 'FAQ', 'Fine', 'Fresh', 'Glucose', 'Instant', 'Kalyan HYV', 'Local', 'Loose(common)', 'Mutton', 'Packet(iodized)', 'Pomphret', 'Poultry', 'Powdered', 'Powdered Agmark', 'Rohu 1Kg Size', 'Split', 'Superfine', 'White', 'Whole']\n",
      "Unit\n",
      "Number of Distinct Values :  11\n",
      "['100gm. Pkt', '250gm. Pkt', '400/800 Gm', '500gm. Pkt', '80gm. Pkt', 'Dozen', 'Kg', 'Kg.', 'Kg/Litre', 'Litre', 'Peice']\n",
      "Category\n",
      "Number of Distinct Values :  1\n",
      "['Food']\n",
      "Date\n",
      "Number of Distinct Values :  243\n",
      "['APR-2001', 'APR-2002', 'APR-2003', 'APR-2004', 'APR-2005', 'APR-2006', 'APR-2007', 'APR-2008', 'APR-2009', 'APR-2010', 'APR-2011', 'APR-2012', 'APR-2013', 'APR-2014', 'APR-2015', 'APR-2016', 'APR-2017', 'APR-2018', 'APR-2019', 'APR-2020', 'AUG-2001', 'AUG-2002', 'AUG-2003', 'AUG-2004', 'AUG-2005', 'AUG-2006', 'AUG-2007', 'AUG-2008', 'AUG-2009', 'AUG-2010', 'AUG-2011', 'AUG-2012', 'AUG-2013', 'AUG-2014', 'AUG-2015', 'AUG-2016', 'AUG-2017', 'AUG-2018', 'AUG-2019', 'AUG-2020', 'DEC-2001', 'DEC-2002', 'DEC-2003', 'DEC-2004', 'DEC-2005', 'DEC-2006', 'DEC-2007', 'DEC-2008', 'DEC-2009', 'DEC-2010', 'DEC-2011', 'DEC-2012', 'DEC-2013', 'DEC-2014', 'DEC-2015', 'DEC-2016', 'DEC-2017', 'DEC-2018', 'DEC-2019', 'DEC-2020', 'FEB-2001', 'FEB-2002', 'FEB-2003', 'FEB-2004', 'FEB-2005', 'FEB-2006', 'FEB-2007', 'FEB-2008', 'FEB-2009', 'FEB-2010', 'FEB-2011', 'FEB-2012', 'FEB-2013', 'FEB-2014', 'FEB-2015', 'FEB-2016', 'FEB-2017', 'FEB-2018', 'FEB-2019', 'FEB-2020', 'FEB-2021', 'JAN-2001', 'JAN-2002', 'JAN-2003', 'JAN-2004', 'JAN-2005', 'JAN-2006', 'JAN-2007', 'JAN-2008', 'JAN-2009', 'JAN-2010', 'JAN-2011', 'JAN-2012', 'JAN-2013', 'JAN-2014', 'JAN-2015', 'JAN-2016', 'JAN-2017', 'JAN-2018', 'JAN-2019']\n",
      "Retail Price\n",
      "Number of Distinct Values :  1703\n",
      "[None, '0.50', '1.00', '1.25', '1.50', '1.60', '1.75', '10.00', '10.10', '10.15', '10.20', '10.25', '10.30', '10.35', '10.40', '10.50', '10.55', '10.60', '10.70', '10.75', '10.80', '10.90', '10.95', '100.00', '100.10', '100.50', '100.55', '100.85', '100.90', '1000.00', '1006.00', '101.00', '101.26', '101.55', '101.75', '1010.00', '1015.00', '1016.70', '102.00', '102.50', '102.80', '1020.00', '1025.00', '1026.00', '103.00', '103.13', '1030.00', '1037.00', '1037.50', '1038.00', '104.00', '104.05', '104.19', '104.25', '104.30', '1040.00', '1045.00', '105.00', '105.30', '105.35', '105.66', '105.81', '1050.00', '106.00', '106.20', '106.66', '1060.00', '1062.00', '1063.00', '1065.00', '107.00', '107.01', '107.43', '107.70', '1070.00', '1071.00', '1072.28', '1072.80', '1075.00', '1076.00', '108.00', '108.98', '1080.00', '109.00', '109.20', '109.25', '1090.00', '1096.00', '11.00', '11.10', '11.15', '11.20', '11.25', '11.30', '11.35', '11.40', '11.50', '11.60', '11.65', '11.70']\n",
      "###################################################### TYPES OF COLUMNS #####################################################\n",
      "\n",
      "Categorical Columns :  ['State', 'Centre', 'Commodity', 'Variety', 'Unit', 'Category', 'Date', 'Retail Price']\n",
      "Numerical Columns:  []\n",
      "\n",
      "#############################################################################################################################\n"
     ]
    }
   ],
   "source": [
    "get_metadata(m_food_retail_price_raw)"
   ]
  },
  {
   "cell_type": "markdown",
   "metadata": {},
   "source": [
    "# Preprocessing"
   ]
  },
  {
   "cell_type": "code",
   "execution_count": null,
   "metadata": {},
   "outputs": [],
   "source": []
  }
 ],
 "metadata": {
  "kernelspec": {
   "display_name": "Python 3.9.12 ('base')",
   "language": "python",
   "name": "python3"
  },
  "language_info": {
   "codemirror_mode": {
    "name": "ipython",
    "version": 3
   },
   "file_extension": ".py",
   "mimetype": "text/x-python",
   "name": "python",
   "nbconvert_exporter": "python",
   "pygments_lexer": "ipython3",
   "version": "3.9.12"
  },
  "orig_nbformat": 4,
  "vscode": {
   "interpreter": {
    "hash": "ad2bdc8ecc057115af97d19610ffacc2b4e99fae6737bb82f5d7fb13d2f2c186"
   }
  }
 },
 "nbformat": 4,
 "nbformat_minor": 2
}
