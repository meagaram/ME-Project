{
  "cells": [
    {
      "cell_type": "markdown",
      "metadata": {
        "id": "MuTZGKlDvlHN"
      },
      "source": [
        "# Importing Libraries"
      ]
    },
    {
      "cell_type": "code",
      "execution_count": null,
      "metadata": {
        "id": "4i2VV4-evlHP"
      },
      "outputs": [],
      "source": [
        "import pandas as pd\n",
        "import numpy as np\n",
        "import matplotlib.pyplot as plt\n",
        "import seaborn as sns\n",
        "\n",
        "from sklearn.model_selection import train_test_split\n",
        "from imblearn.over_sampling import SMOTE\n",
        "from imblearn.under_sampling import NearMiss\n",
        "from sklearn.metrics import confusion_matrix, accuracy_score, classification_report, roc_auc_score\n",
        "\n",
        "\n",
        "from sklearn.preprocessing import StandardScaler\n",
        "from statsmodels.stats.outliers_influence import variance_inflation_factor\n",
        "\n",
        "from sklearn.naive_bayes import GaussianNB, MultinomialNB, BernoulliNB, CategoricalNB\n",
        "from sklearn.linear_model import LogisticRegression\n",
        "\n"
      ]
    },
    {
      "cell_type": "markdown",
      "metadata": {
        "id": "2rHshO1UvlHR"
      },
      "source": [
        "# Read Tables"
      ]
    },
    {
      "cell_type": "code",
      "execution_count": null,
      "metadata": {
        "id": "2LpSzLjyvlHR"
      },
      "outputs": [],
      "source": [
        "train = pd.read_csv(r\"D:\\Inceptez\\Data Science\\Datasets\\cross_sell-prediction\\train.csv\")\n",
        "test = pd.read_csv(r\"D:\\Inceptez\\Data Science\\Datasets\\cross_sell-prediction\\test.csv\")"
      ]
    },
    {
      "cell_type": "code",
      "execution_count": null,
      "metadata": {
        "colab": {
          "base_uri": "https://localhost:8080/"
        },
        "id": "eJ5LZmBIwJSN",
        "outputId": "be3611d9-7298-4285-f790-d58a55eaa8b7"
      },
      "outputs": [
        {
          "name": "stdout",
          "output_type": "stream",
          "text": [
            "Mounted at /content/gdrive/\n"
          ]
        }
      ],
      "source": [
        "# from google.colab import drive\n",
        "\n",
        "# drive.mount('/content/gdrive/', force_remount=True)"
      ]
    },
    {
      "cell_type": "code",
      "execution_count": null,
      "metadata": {
        "id": "adGhgLFixOO_"
      },
      "outputs": [],
      "source": [
        "# train = pd.read_csv(r'/content/gdrive/MyDrive/Datasets/CrossSell-Prediction/train.csv')\n",
        "# test = pd.read_csv(r'/content/gdrive/MyDrive/Datasets/CrossSell-Prediction/test.csv')"
      ]
    },
    {
      "cell_type": "code",
      "execution_count": null,
      "metadata": {
        "colab": {
          "base_uri": "https://localhost:8080/",
          "height": 187
        },
        "id": "0OfWC2ARvlHR",
        "outputId": "7981a078-1d8e-4cca-c481-4aa3cde3943d"
      },
      "outputs": [
        {
          "data": {
            "text/html": [
              "\n",
              "  <div id=\"df-38cb0c17-e53f-40ae-b964-34bf3279d35b\">\n",
              "    <div class=\"colab-df-container\">\n",
              "      <div>\n",
              "<style scoped>\n",
              "    .dataframe tbody tr th:only-of-type {\n",
              "        vertical-align: middle;\n",
              "    }\n",
              "\n",
              "    .dataframe tbody tr th {\n",
              "        vertical-align: top;\n",
              "    }\n",
              "\n",
              "    .dataframe thead th {\n",
              "        text-align: right;\n",
              "    }\n",
              "</style>\n",
              "<table border=\"1\" class=\"dataframe\">\n",
              "  <thead>\n",
              "    <tr style=\"text-align: right;\">\n",
              "      <th></th>\n",
              "      <th>id</th>\n",
              "      <th>Gender</th>\n",
              "      <th>Age</th>\n",
              "      <th>Driving_License</th>\n",
              "      <th>Region_Code</th>\n",
              "      <th>Previously_Insured</th>\n",
              "      <th>Vehicle_Age</th>\n",
              "      <th>Vehicle_Damage</th>\n",
              "      <th>Annual_Premium</th>\n",
              "      <th>Policy_Sales_Channel</th>\n",
              "      <th>Vintage</th>\n",
              "      <th>Response</th>\n",
              "    </tr>\n",
              "  </thead>\n",
              "  <tbody>\n",
              "    <tr>\n",
              "      <th>0</th>\n",
              "      <td>1</td>\n",
              "      <td>Male</td>\n",
              "      <td>44</td>\n",
              "      <td>1</td>\n",
              "      <td>28.0</td>\n",
              "      <td>0</td>\n",
              "      <td>&gt; 2 Years</td>\n",
              "      <td>Yes</td>\n",
              "      <td>40454.0</td>\n",
              "      <td>26.0</td>\n",
              "      <td>217</td>\n",
              "      <td>1</td>\n",
              "    </tr>\n",
              "    <tr>\n",
              "      <th>1</th>\n",
              "      <td>2</td>\n",
              "      <td>Male</td>\n",
              "      <td>76</td>\n",
              "      <td>1</td>\n",
              "      <td>3.0</td>\n",
              "      <td>0</td>\n",
              "      <td>1-2 Year</td>\n",
              "      <td>No</td>\n",
              "      <td>33536.0</td>\n",
              "      <td>26.0</td>\n",
              "      <td>183</td>\n",
              "      <td>0</td>\n",
              "    </tr>\n",
              "    <tr>\n",
              "      <th>2</th>\n",
              "      <td>3</td>\n",
              "      <td>Male</td>\n",
              "      <td>47</td>\n",
              "      <td>1</td>\n",
              "      <td>28.0</td>\n",
              "      <td>0</td>\n",
              "      <td>&gt; 2 Years</td>\n",
              "      <td>Yes</td>\n",
              "      <td>38294.0</td>\n",
              "      <td>26.0</td>\n",
              "      <td>27</td>\n",
              "      <td>1</td>\n",
              "    </tr>\n",
              "  </tbody>\n",
              "</table>\n",
              "</div>\n",
              "      <button class=\"colab-df-convert\" onclick=\"convertToInteractive('df-38cb0c17-e53f-40ae-b964-34bf3279d35b')\"\n",
              "              title=\"Convert this dataframe to an interactive table.\"\n",
              "              style=\"display:none;\">\n",
              "        \n",
              "  <svg xmlns=\"http://www.w3.org/2000/svg\" height=\"24px\"viewBox=\"0 0 24 24\"\n",
              "       width=\"24px\">\n",
              "    <path d=\"M0 0h24v24H0V0z\" fill=\"none\"/>\n",
              "    <path d=\"M18.56 5.44l.94 2.06.94-2.06 2.06-.94-2.06-.94-.94-2.06-.94 2.06-2.06.94zm-11 1L8.5 8.5l.94-2.06 2.06-.94-2.06-.94L8.5 2.5l-.94 2.06-2.06.94zm10 10l.94 2.06.94-2.06 2.06-.94-2.06-.94-.94-2.06-.94 2.06-2.06.94z\"/><path d=\"M17.41 7.96l-1.37-1.37c-.4-.4-.92-.59-1.43-.59-.52 0-1.04.2-1.43.59L10.3 9.45l-7.72 7.72c-.78.78-.78 2.05 0 2.83L4 21.41c.39.39.9.59 1.41.59.51 0 1.02-.2 1.41-.59l7.78-7.78 2.81-2.81c.8-.78.8-2.07 0-2.86zM5.41 20L4 18.59l7.72-7.72 1.47 1.35L5.41 20z\"/>\n",
              "  </svg>\n",
              "      </button>\n",
              "      \n",
              "  <style>\n",
              "    .colab-df-container {\n",
              "      display:flex;\n",
              "      flex-wrap:wrap;\n",
              "      gap: 12px;\n",
              "    }\n",
              "\n",
              "    .colab-df-convert {\n",
              "      background-color: #E8F0FE;\n",
              "      border: none;\n",
              "      border-radius: 50%;\n",
              "      cursor: pointer;\n",
              "      display: none;\n",
              "      fill: #1967D2;\n",
              "      height: 32px;\n",
              "      padding: 0 0 0 0;\n",
              "      width: 32px;\n",
              "    }\n",
              "\n",
              "    .colab-df-convert:hover {\n",
              "      background-color: #E2EBFA;\n",
              "      box-shadow: 0px 1px 2px rgba(60, 64, 67, 0.3), 0px 1px 3px 1px rgba(60, 64, 67, 0.15);\n",
              "      fill: #174EA6;\n",
              "    }\n",
              "\n",
              "    [theme=dark] .colab-df-convert {\n",
              "      background-color: #3B4455;\n",
              "      fill: #D2E3FC;\n",
              "    }\n",
              "\n",
              "    [theme=dark] .colab-df-convert:hover {\n",
              "      background-color: #434B5C;\n",
              "      box-shadow: 0px 1px 3px 1px rgba(0, 0, 0, 0.15);\n",
              "      filter: drop-shadow(0px 1px 2px rgba(0, 0, 0, 0.3));\n",
              "      fill: #FFFFFF;\n",
              "    }\n",
              "  </style>\n",
              "\n",
              "      <script>\n",
              "        const buttonEl =\n",
              "          document.querySelector('#df-38cb0c17-e53f-40ae-b964-34bf3279d35b button.colab-df-convert');\n",
              "        buttonEl.style.display =\n",
              "          google.colab.kernel.accessAllowed ? 'block' : 'none';\n",
              "\n",
              "        async function convertToInteractive(key) {\n",
              "          const element = document.querySelector('#df-38cb0c17-e53f-40ae-b964-34bf3279d35b');\n",
              "          const dataTable =\n",
              "            await google.colab.kernel.invokeFunction('convertToInteractive',\n",
              "                                                     [key], {});\n",
              "          if (!dataTable) return;\n",
              "\n",
              "          const docLinkHtml = 'Like what you see? Visit the ' +\n",
              "            '<a target=\"_blank\" href=https://colab.research.google.com/notebooks/data_table.ipynb>data table notebook</a>'\n",
              "            + ' to learn more about interactive tables.';\n",
              "          element.innerHTML = '';\n",
              "          dataTable['output_type'] = 'display_data';\n",
              "          await google.colab.output.renderOutput(dataTable, element);\n",
              "          const docLink = document.createElement('div');\n",
              "          docLink.innerHTML = docLinkHtml;\n",
              "          element.appendChild(docLink);\n",
              "        }\n",
              "      </script>\n",
              "    </div>\n",
              "  </div>\n",
              "  "
            ],
            "text/plain": [
              "   id Gender  Age  Driving_License  Region_Code  Previously_Insured  \\\n",
              "0   1   Male   44                1         28.0                   0   \n",
              "1   2   Male   76                1          3.0                   0   \n",
              "2   3   Male   47                1         28.0                   0   \n",
              "\n",
              "  Vehicle_Age Vehicle_Damage  Annual_Premium  Policy_Sales_Channel  Vintage  \\\n",
              "0   > 2 Years            Yes         40454.0                  26.0      217   \n",
              "1    1-2 Year             No         33536.0                  26.0      183   \n",
              "2   > 2 Years            Yes         38294.0                  26.0       27   \n",
              "\n",
              "   Response  \n",
              "0         1  \n",
              "1         0  \n",
              "2         1  "
            ]
          },
          "execution_count": 5,
          "metadata": {},
          "output_type": "execute_result"
        }
      ],
      "source": [
        "train.head(3)"
      ]
    },
    {
      "cell_type": "code",
      "execution_count": null,
      "metadata": {
        "colab": {
          "base_uri": "https://localhost:8080/",
          "height": 143
        },
        "id": "AOXV6QG4vlHS",
        "outputId": "f17d2cbe-88a5-42dd-e3ff-ad150dcf4b21"
      },
      "outputs": [
        {
          "data": {
            "text/html": [
              "\n",
              "  <div id=\"df-c8835744-eae2-4889-9758-655a8cd02344\">\n",
              "    <div class=\"colab-df-container\">\n",
              "      <div>\n",
              "<style scoped>\n",
              "    .dataframe tbody tr th:only-of-type {\n",
              "        vertical-align: middle;\n",
              "    }\n",
              "\n",
              "    .dataframe tbody tr th {\n",
              "        vertical-align: top;\n",
              "    }\n",
              "\n",
              "    .dataframe thead th {\n",
              "        text-align: right;\n",
              "    }\n",
              "</style>\n",
              "<table border=\"1\" class=\"dataframe\">\n",
              "  <thead>\n",
              "    <tr style=\"text-align: right;\">\n",
              "      <th></th>\n",
              "      <th>id</th>\n",
              "      <th>Gender</th>\n",
              "      <th>Age</th>\n",
              "      <th>Driving_License</th>\n",
              "      <th>Region_Code</th>\n",
              "      <th>Previously_Insured</th>\n",
              "      <th>Vehicle_Age</th>\n",
              "      <th>Vehicle_Damage</th>\n",
              "      <th>Annual_Premium</th>\n",
              "      <th>Policy_Sales_Channel</th>\n",
              "      <th>Vintage</th>\n",
              "    </tr>\n",
              "  </thead>\n",
              "  <tbody>\n",
              "    <tr>\n",
              "      <th>0</th>\n",
              "      <td>381110</td>\n",
              "      <td>Male</td>\n",
              "      <td>25</td>\n",
              "      <td>1</td>\n",
              "      <td>11.0</td>\n",
              "      <td>1</td>\n",
              "      <td>&lt; 1 Year</td>\n",
              "      <td>No</td>\n",
              "      <td>35786.0</td>\n",
              "      <td>152.0</td>\n",
              "      <td>53</td>\n",
              "    </tr>\n",
              "    <tr>\n",
              "      <th>1</th>\n",
              "      <td>381111</td>\n",
              "      <td>Male</td>\n",
              "      <td>40</td>\n",
              "      <td>1</td>\n",
              "      <td>28.0</td>\n",
              "      <td>0</td>\n",
              "      <td>1-2 Year</td>\n",
              "      <td>Yes</td>\n",
              "      <td>33762.0</td>\n",
              "      <td>7.0</td>\n",
              "      <td>111</td>\n",
              "    </tr>\n",
              "    <tr>\n",
              "      <th>2</th>\n",
              "      <td>381112</td>\n",
              "      <td>Male</td>\n",
              "      <td>47</td>\n",
              "      <td>1</td>\n",
              "      <td>28.0</td>\n",
              "      <td>0</td>\n",
              "      <td>1-2 Year</td>\n",
              "      <td>Yes</td>\n",
              "      <td>40050.0</td>\n",
              "      <td>124.0</td>\n",
              "      <td>199</td>\n",
              "    </tr>\n",
              "  </tbody>\n",
              "</table>\n",
              "</div>\n",
              "      <button class=\"colab-df-convert\" onclick=\"convertToInteractive('df-c8835744-eae2-4889-9758-655a8cd02344')\"\n",
              "              title=\"Convert this dataframe to an interactive table.\"\n",
              "              style=\"display:none;\">\n",
              "        \n",
              "  <svg xmlns=\"http://www.w3.org/2000/svg\" height=\"24px\"viewBox=\"0 0 24 24\"\n",
              "       width=\"24px\">\n",
              "    <path d=\"M0 0h24v24H0V0z\" fill=\"none\"/>\n",
              "    <path d=\"M18.56 5.44l.94 2.06.94-2.06 2.06-.94-2.06-.94-.94-2.06-.94 2.06-2.06.94zm-11 1L8.5 8.5l.94-2.06 2.06-.94-2.06-.94L8.5 2.5l-.94 2.06-2.06.94zm10 10l.94 2.06.94-2.06 2.06-.94-2.06-.94-.94-2.06-.94 2.06-2.06.94z\"/><path d=\"M17.41 7.96l-1.37-1.37c-.4-.4-.92-.59-1.43-.59-.52 0-1.04.2-1.43.59L10.3 9.45l-7.72 7.72c-.78.78-.78 2.05 0 2.83L4 21.41c.39.39.9.59 1.41.59.51 0 1.02-.2 1.41-.59l7.78-7.78 2.81-2.81c.8-.78.8-2.07 0-2.86zM5.41 20L4 18.59l7.72-7.72 1.47 1.35L5.41 20z\"/>\n",
              "  </svg>\n",
              "      </button>\n",
              "      \n",
              "  <style>\n",
              "    .colab-df-container {\n",
              "      display:flex;\n",
              "      flex-wrap:wrap;\n",
              "      gap: 12px;\n",
              "    }\n",
              "\n",
              "    .colab-df-convert {\n",
              "      background-color: #E8F0FE;\n",
              "      border: none;\n",
              "      border-radius: 50%;\n",
              "      cursor: pointer;\n",
              "      display: none;\n",
              "      fill: #1967D2;\n",
              "      height: 32px;\n",
              "      padding: 0 0 0 0;\n",
              "      width: 32px;\n",
              "    }\n",
              "\n",
              "    .colab-df-convert:hover {\n",
              "      background-color: #E2EBFA;\n",
              "      box-shadow: 0px 1px 2px rgba(60, 64, 67, 0.3), 0px 1px 3px 1px rgba(60, 64, 67, 0.15);\n",
              "      fill: #174EA6;\n",
              "    }\n",
              "\n",
              "    [theme=dark] .colab-df-convert {\n",
              "      background-color: #3B4455;\n",
              "      fill: #D2E3FC;\n",
              "    }\n",
              "\n",
              "    [theme=dark] .colab-df-convert:hover {\n",
              "      background-color: #434B5C;\n",
              "      box-shadow: 0px 1px 3px 1px rgba(0, 0, 0, 0.15);\n",
              "      filter: drop-shadow(0px 1px 2px rgba(0, 0, 0, 0.3));\n",
              "      fill: #FFFFFF;\n",
              "    }\n",
              "  </style>\n",
              "\n",
              "      <script>\n",
              "        const buttonEl =\n",
              "          document.querySelector('#df-c8835744-eae2-4889-9758-655a8cd02344 button.colab-df-convert');\n",
              "        buttonEl.style.display =\n",
              "          google.colab.kernel.accessAllowed ? 'block' : 'none';\n",
              "\n",
              "        async function convertToInteractive(key) {\n",
              "          const element = document.querySelector('#df-c8835744-eae2-4889-9758-655a8cd02344');\n",
              "          const dataTable =\n",
              "            await google.colab.kernel.invokeFunction('convertToInteractive',\n",
              "                                                     [key], {});\n",
              "          if (!dataTable) return;\n",
              "\n",
              "          const docLinkHtml = 'Like what you see? Visit the ' +\n",
              "            '<a target=\"_blank\" href=https://colab.research.google.com/notebooks/data_table.ipynb>data table notebook</a>'\n",
              "            + ' to learn more about interactive tables.';\n",
              "          element.innerHTML = '';\n",
              "          dataTable['output_type'] = 'display_data';\n",
              "          await google.colab.output.renderOutput(dataTable, element);\n",
              "          const docLink = document.createElement('div');\n",
              "          docLink.innerHTML = docLinkHtml;\n",
              "          element.appendChild(docLink);\n",
              "        }\n",
              "      </script>\n",
              "    </div>\n",
              "  </div>\n",
              "  "
            ],
            "text/plain": [
              "       id Gender  Age  Driving_License  Region_Code  Previously_Insured  \\\n",
              "0  381110   Male   25                1         11.0                   1   \n",
              "1  381111   Male   40                1         28.0                   0   \n",
              "2  381112   Male   47                1         28.0                   0   \n",
              "\n",
              "  Vehicle_Age Vehicle_Damage  Annual_Premium  Policy_Sales_Channel  Vintage  \n",
              "0    < 1 Year             No         35786.0                 152.0       53  \n",
              "1    1-2 Year            Yes         33762.0                   7.0      111  \n",
              "2    1-2 Year            Yes         40050.0                 124.0      199  "
            ]
          },
          "execution_count": 6,
          "metadata": {},
          "output_type": "execute_result"
        }
      ],
      "source": [
        "test.head(3)"
      ]
    },
    {
      "cell_type": "markdown",
      "metadata": {
        "id": "YTiW8ISbvlHS"
      },
      "source": [
        "# Defining Functions"
      ]
    },
    {
      "cell_type": "code",
      "execution_count": null,
      "metadata": {
        "id": "06g7wII3vlHS"
      },
      "outputs": [],
      "source": [
        "def get_metadata(dataframe):\n",
        "    '''Gets all the Metadata Information about the Dataframe'''\n",
        "    print(\"\\nBASIC INFORMATION\\n\")\n",
        "    print(dataframe.info())\n",
        "    print(\"=\" * 80)\n",
        "    print(\"STATISTICAL INFORMATION\\n\")\n",
        "    display(dataframe.describe(include='all').T)\n",
        "    print(\"=\" * 80)\n",
        "    print(\"Dataframe Shape\\n\", dataframe.shape)\n",
        "    print(\"=\" * 80)\n",
        "    print(\"Number of Duplicate Rows\\n\", dataframe.duplicated().sum())\n",
        "    print(\"=\" * 80)\n",
        "    print(\"NULL Values Check\")\n",
        "    for col in dataframe.columns:\n",
        "        print(col, dataframe[col].isnull().sum())\n",
        "    print(\"=\" * 80)\n",
        "    print(\"UNIQUE VALUES IN EVERY COLUMN\")\n",
        "    for col in dataframe.columns:\n",
        "        print(col)\n",
        "        print(dataframe[col].unique())\n",
        "        print('-' * 80)\n",
        "    categorical_cols = [var for var in dataframe.columns if dataframe[var].dtype=='O']\n",
        "    numerical_cols = [var for var in dataframe.columns if dataframe[var].dtype!='O']\n",
        "    print(\"CATEGORICAL FEATURES\\n\", categorical_cols)\n",
        "    print(\"=\" * 80)\n",
        "    print(\"NUMERICAL FEATURES\\n\", numerical_cols)\n",
        "    print(\"=\" * 80)\n",
        "    print(\"Negative Valued Column\")\n",
        "    for col in numerical_cols:\n",
        "        if min(dataframe[col]) < 0:\n",
        "            print(col)\n",
        "    print(\"=\" * 80)\n",
        "    display(dataframe.head(3))"
      ]
    },
    {
      "cell_type": "code",
      "execution_count": null,
      "metadata": {
        "id": "QG_5ImMV0a46"
      },
      "outputs": [],
      "source": [
        "def naive_bayes_model(model, X_train, X_test, Y_train, Y_test):\n",
        "    # model: GaussianNB(), MultMultinomialNB(), BernoBernoulliNB()\n",
        "    print(\"Model\\n\", model)\n",
        "    print(\"Training Model...\\n\")\n",
        "    model.fit(X_train, Y_train)\n",
        "    \n",
        "    print(\"Model Prediction...\")\n",
        "    Y_train_pred = model.predict(X_train)\n",
        "    Y_test_pred = model.predict(X_test)\n",
        "    \n",
        "    print(\"Y_train_Pred\")\n",
        "    print(\"Confusion Matrix\\n\", confusion_matrix(Y_train, Y_train_pred))\n",
        "    print(\"-\" * 80)\n",
        "    print(\"Accuracy Score\\n\", accuracy_score(Y_train, Y_train_pred))\n",
        "    print(\"-\" * 80)\n",
        "    print(\"Classification Report\\n\", classification_report(Y_train, Y_train_pred))\n",
        "\n",
        "    print(\"Y_test_Pred\")\n",
        "    print(\"Confusion Matrix\\n\", confusion_matrix(Y_test, Y_test_pred))\n",
        "    print(\"-\" * 80)\n",
        "    print(\"Accuracy Score\\n\", accuracy_score(Y_test, Y_test_pred))\n",
        "    print(\"-\" * 80)\n",
        "    print(\"Classification Report\\n\", classification_report(Y_test, Y_test_pred))"
      ]
    },
    {
      "cell_type": "code",
      "execution_count": null,
      "metadata": {
        "id": "t5aMjZVu7mn9"
      },
      "outputs": [],
      "source": [
        "def logistic_regression(model, X_train, X_test, Y_train, Y_test):\n",
        "    print(\"Model\\n\", model)\n",
        "    print(\"Training Model...\\n\")\n",
        "    model.fit(X_train, Y_train)\n",
        "\n",
        "    print(\"Model Prediction...\")\n",
        "    Y_train_pred = model.predict(X_train)\n",
        "    Y_test_pred = model.predict(X_test)\n",
        "    \n",
        "    print(\"Y_train_Pred\")\n",
        "    print(\"Confusion Matrix\\n\", confusion_matrix(Y_train, Y_train_pred))\n",
        "    print(\"-\" * 80)\n",
        "    print(\"Accuracy Score\\n\", accuracy_score(Y_train, Y_train_pred))\n",
        "    print(\"-\" * 80)\n",
        "    print(\"Classification Report\\n\", classification_report(Y_train, Y_train_pred))\n",
        "    print(\"-\" * 80)\n",
        "    print(\"ROC_AUC\")\n",
        "    print(roc_auc_score(Y_train, model.predict_proba(X_train)[:, 1]))\n",
        "\n",
        "    print(\"=\" * 80)\n",
        "\n",
        "    print(\"Y_test_Pred\")\n",
        "    print(\"Confusion Matrix\\n\", confusion_matrix(Y_test, Y_test_pred))\n",
        "    print(\"-\" * 80)\n",
        "    print(\"Accuracy Score\\n\", accuracy_score(Y_test, Y_test_pred))\n",
        "    print(\"-\" * 80)\n",
        "    print(\"Classification Report\\n\", classification_report(Y_test, Y_test_pred)) \n",
        "    print(\"-\" * 80)\n",
        "    print(\"ROC_AUC\\n\") \n",
        "    print(roc_auc_score(Y_test, model.predict_proba(X_test)[:, 1]))\n",
        "  "
      ]
    },
    {
      "cell_type": "code",
      "execution_count": null,
      "metadata": {
        "id": "eb0wmYN40apB"
      },
      "outputs": [],
      "source": [
        "def knn_model(k, X_train, X_test, Y_train, Y_test, weights='uniform', metric='minkowski'):\n",
        "    # weights: uniform, distance ; metric: minkowski, euclidean, manhattan, cosine\n",
        "    knn = KNeighborsClassifier(n_neighbors = k, weights=weights, metric=metric)\n",
        "    print(\"No of Neighbors : \", k)\n",
        "    print(\"Weights :\", weights)\n",
        "    print(\"Metric : \", metric)\n",
        "    \n",
        "    print(\"Training Model...\\n\")\n",
        "    knn.fit(X_train, Y_train)\n",
        "    \n",
        "    print(\"Model Prediction...\")\n",
        "    Y_pred = knn.predict(X_test)\n",
        "    \n",
        "    print(\"=\" * 80)\n",
        "    print(\"Confusion Matrix\\n\", confusion_matrix(Y_test, Y_pred))\n",
        "    print(\"=\" * 80)\n",
        "    print(\"Accuracy Score\\n\", accuracy_score(Y_test, Y_pred))\n",
        "    print(\"=\" * 80)\n",
        "    print(\"Classification Report\\n\", classification_report(Y_test, Y_pred))"
      ]
    },
    {
      "cell_type": "markdown",
      "metadata": {
        "id": "5lNj9QU9vlHT"
      },
      "source": [
        "# EDA"
      ]
    },
    {
      "cell_type": "code",
      "execution_count": null,
      "metadata": {
        "colab": {
          "base_uri": "https://localhost:8080/",
          "height": 1000
        },
        "id": "nkAPATc0vlHT",
        "outputId": "8fa93abb-4310-4994-dbe0-ca64d0e7e82d"
      },
      "outputs": [
        {
          "name": "stdout",
          "output_type": "stream",
          "text": [
            "\n",
            "BASIC INFORMATION\n",
            "\n",
            "<class 'pandas.core.frame.DataFrame'>\n",
            "RangeIndex: 381109 entries, 0 to 381108\n",
            "Data columns (total 12 columns):\n",
            " #   Column                Non-Null Count   Dtype  \n",
            "---  ------                --------------   -----  \n",
            " 0   id                    381109 non-null  int64  \n",
            " 1   Gender                381109 non-null  int64  \n",
            " 2   Age                   381109 non-null  int64  \n",
            " 3   Driving_License       381109 non-null  int64  \n",
            " 4   Region_Code           381109 non-null  float64\n",
            " 5   Previously_Insured    381109 non-null  int64  \n",
            " 6   Vehicle_Age           381109 non-null  int64  \n",
            " 7   Vehicle_Damage        381109 non-null  int64  \n",
            " 8   Annual_Premium        381109 non-null  float64\n",
            " 9   Policy_Sales_Channel  381109 non-null  float64\n",
            " 10  Vintage               381109 non-null  int64  \n",
            " 11  Response              381109 non-null  int64  \n",
            "dtypes: float64(3), int64(9)\n",
            "memory usage: 34.9 MB\n",
            "None\n",
            "================================================================================\n",
            "STATISTICAL INFORMATION\n",
            "\n"
          ]
        },
        {
          "data": {
            "text/html": [
              "\n",
              "  <div id=\"df-3c69494c-9956-4eed-9332-182918b0ef79\">\n",
              "    <div class=\"colab-df-container\">\n",
              "      <div>\n",
              "<style scoped>\n",
              "    .dataframe tbody tr th:only-of-type {\n",
              "        vertical-align: middle;\n",
              "    }\n",
              "\n",
              "    .dataframe tbody tr th {\n",
              "        vertical-align: top;\n",
              "    }\n",
              "\n",
              "    .dataframe thead th {\n",
              "        text-align: right;\n",
              "    }\n",
              "</style>\n",
              "<table border=\"1\" class=\"dataframe\">\n",
              "  <thead>\n",
              "    <tr style=\"text-align: right;\">\n",
              "      <th></th>\n",
              "      <th>count</th>\n",
              "      <th>mean</th>\n",
              "      <th>std</th>\n",
              "      <th>min</th>\n",
              "      <th>25%</th>\n",
              "      <th>50%</th>\n",
              "      <th>75%</th>\n",
              "      <th>max</th>\n",
              "    </tr>\n",
              "  </thead>\n",
              "  <tbody>\n",
              "    <tr>\n",
              "      <th>id</th>\n",
              "      <td>381109.0</td>\n",
              "      <td>190555.000000</td>\n",
              "      <td>110016.836208</td>\n",
              "      <td>1.0</td>\n",
              "      <td>95278.0</td>\n",
              "      <td>190555.0</td>\n",
              "      <td>285832.0</td>\n",
              "      <td>381109.0</td>\n",
              "    </tr>\n",
              "    <tr>\n",
              "      <th>Gender</th>\n",
              "      <td>381109.0</td>\n",
              "      <td>0.540761</td>\n",
              "      <td>0.498336</td>\n",
              "      <td>0.0</td>\n",
              "      <td>0.0</td>\n",
              "      <td>1.0</td>\n",
              "      <td>1.0</td>\n",
              "      <td>1.0</td>\n",
              "    </tr>\n",
              "    <tr>\n",
              "      <th>Age</th>\n",
              "      <td>381109.0</td>\n",
              "      <td>38.822584</td>\n",
              "      <td>15.511611</td>\n",
              "      <td>20.0</td>\n",
              "      <td>25.0</td>\n",
              "      <td>36.0</td>\n",
              "      <td>49.0</td>\n",
              "      <td>85.0</td>\n",
              "    </tr>\n",
              "    <tr>\n",
              "      <th>Driving_License</th>\n",
              "      <td>381109.0</td>\n",
              "      <td>0.997869</td>\n",
              "      <td>0.046110</td>\n",
              "      <td>0.0</td>\n",
              "      <td>1.0</td>\n",
              "      <td>1.0</td>\n",
              "      <td>1.0</td>\n",
              "      <td>1.0</td>\n",
              "    </tr>\n",
              "    <tr>\n",
              "      <th>Region_Code</th>\n",
              "      <td>381109.0</td>\n",
              "      <td>26.388807</td>\n",
              "      <td>13.229888</td>\n",
              "      <td>0.0</td>\n",
              "      <td>15.0</td>\n",
              "      <td>28.0</td>\n",
              "      <td>35.0</td>\n",
              "      <td>52.0</td>\n",
              "    </tr>\n",
              "    <tr>\n",
              "      <th>Previously_Insured</th>\n",
              "      <td>381109.0</td>\n",
              "      <td>0.458210</td>\n",
              "      <td>0.498251</td>\n",
              "      <td>0.0</td>\n",
              "      <td>0.0</td>\n",
              "      <td>0.0</td>\n",
              "      <td>1.0</td>\n",
              "      <td>1.0</td>\n",
              "    </tr>\n",
              "    <tr>\n",
              "      <th>Vehicle_Age</th>\n",
              "      <td>381109.0</td>\n",
              "      <td>0.609616</td>\n",
              "      <td>0.567439</td>\n",
              "      <td>0.0</td>\n",
              "      <td>0.0</td>\n",
              "      <td>1.0</td>\n",
              "      <td>1.0</td>\n",
              "      <td>2.0</td>\n",
              "    </tr>\n",
              "    <tr>\n",
              "      <th>Vehicle_Damage</th>\n",
              "      <td>381109.0</td>\n",
              "      <td>0.504877</td>\n",
              "      <td>0.499977</td>\n",
              "      <td>0.0</td>\n",
              "      <td>0.0</td>\n",
              "      <td>1.0</td>\n",
              "      <td>1.0</td>\n",
              "      <td>1.0</td>\n",
              "    </tr>\n",
              "    <tr>\n",
              "      <th>Annual_Premium</th>\n",
              "      <td>381109.0</td>\n",
              "      <td>30564.389581</td>\n",
              "      <td>17213.155057</td>\n",
              "      <td>2630.0</td>\n",
              "      <td>24405.0</td>\n",
              "      <td>31669.0</td>\n",
              "      <td>39400.0</td>\n",
              "      <td>540165.0</td>\n",
              "    </tr>\n",
              "    <tr>\n",
              "      <th>Policy_Sales_Channel</th>\n",
              "      <td>381109.0</td>\n",
              "      <td>112.034295</td>\n",
              "      <td>54.203995</td>\n",
              "      <td>1.0</td>\n",
              "      <td>29.0</td>\n",
              "      <td>133.0</td>\n",
              "      <td>152.0</td>\n",
              "      <td>163.0</td>\n",
              "    </tr>\n",
              "    <tr>\n",
              "      <th>Vintage</th>\n",
              "      <td>381109.0</td>\n",
              "      <td>154.347397</td>\n",
              "      <td>83.671304</td>\n",
              "      <td>10.0</td>\n",
              "      <td>82.0</td>\n",
              "      <td>154.0</td>\n",
              "      <td>227.0</td>\n",
              "      <td>299.0</td>\n",
              "    </tr>\n",
              "    <tr>\n",
              "      <th>Response</th>\n",
              "      <td>381109.0</td>\n",
              "      <td>0.122563</td>\n",
              "      <td>0.327936</td>\n",
              "      <td>0.0</td>\n",
              "      <td>0.0</td>\n",
              "      <td>0.0</td>\n",
              "      <td>0.0</td>\n",
              "      <td>1.0</td>\n",
              "    </tr>\n",
              "  </tbody>\n",
              "</table>\n",
              "</div>\n",
              "      <button class=\"colab-df-convert\" onclick=\"convertToInteractive('df-3c69494c-9956-4eed-9332-182918b0ef79')\"\n",
              "              title=\"Convert this dataframe to an interactive table.\"\n",
              "              style=\"display:none;\">\n",
              "        \n",
              "  <svg xmlns=\"http://www.w3.org/2000/svg\" height=\"24px\"viewBox=\"0 0 24 24\"\n",
              "       width=\"24px\">\n",
              "    <path d=\"M0 0h24v24H0V0z\" fill=\"none\"/>\n",
              "    <path d=\"M18.56 5.44l.94 2.06.94-2.06 2.06-.94-2.06-.94-.94-2.06-.94 2.06-2.06.94zm-11 1L8.5 8.5l.94-2.06 2.06-.94-2.06-.94L8.5 2.5l-.94 2.06-2.06.94zm10 10l.94 2.06.94-2.06 2.06-.94-2.06-.94-.94-2.06-.94 2.06-2.06.94z\"/><path d=\"M17.41 7.96l-1.37-1.37c-.4-.4-.92-.59-1.43-.59-.52 0-1.04.2-1.43.59L10.3 9.45l-7.72 7.72c-.78.78-.78 2.05 0 2.83L4 21.41c.39.39.9.59 1.41.59.51 0 1.02-.2 1.41-.59l7.78-7.78 2.81-2.81c.8-.78.8-2.07 0-2.86zM5.41 20L4 18.59l7.72-7.72 1.47 1.35L5.41 20z\"/>\n",
              "  </svg>\n",
              "      </button>\n",
              "      \n",
              "  <style>\n",
              "    .colab-df-container {\n",
              "      display:flex;\n",
              "      flex-wrap:wrap;\n",
              "      gap: 12px;\n",
              "    }\n",
              "\n",
              "    .colab-df-convert {\n",
              "      background-color: #E8F0FE;\n",
              "      border: none;\n",
              "      border-radius: 50%;\n",
              "      cursor: pointer;\n",
              "      display: none;\n",
              "      fill: #1967D2;\n",
              "      height: 32px;\n",
              "      padding: 0 0 0 0;\n",
              "      width: 32px;\n",
              "    }\n",
              "\n",
              "    .colab-df-convert:hover {\n",
              "      background-color: #E2EBFA;\n",
              "      box-shadow: 0px 1px 2px rgba(60, 64, 67, 0.3), 0px 1px 3px 1px rgba(60, 64, 67, 0.15);\n",
              "      fill: #174EA6;\n",
              "    }\n",
              "\n",
              "    [theme=dark] .colab-df-convert {\n",
              "      background-color: #3B4455;\n",
              "      fill: #D2E3FC;\n",
              "    }\n",
              "\n",
              "    [theme=dark] .colab-df-convert:hover {\n",
              "      background-color: #434B5C;\n",
              "      box-shadow: 0px 1px 3px 1px rgba(0, 0, 0, 0.15);\n",
              "      filter: drop-shadow(0px 1px 2px rgba(0, 0, 0, 0.3));\n",
              "      fill: #FFFFFF;\n",
              "    }\n",
              "  </style>\n",
              "\n",
              "      <script>\n",
              "        const buttonEl =\n",
              "          document.querySelector('#df-3c69494c-9956-4eed-9332-182918b0ef79 button.colab-df-convert');\n",
              "        buttonEl.style.display =\n",
              "          google.colab.kernel.accessAllowed ? 'block' : 'none';\n",
              "\n",
              "        async function convertToInteractive(key) {\n",
              "          const element = document.querySelector('#df-3c69494c-9956-4eed-9332-182918b0ef79');\n",
              "          const dataTable =\n",
              "            await google.colab.kernel.invokeFunction('convertToInteractive',\n",
              "                                                     [key], {});\n",
              "          if (!dataTable) return;\n",
              "\n",
              "          const docLinkHtml = 'Like what you see? Visit the ' +\n",
              "            '<a target=\"_blank\" href=https://colab.research.google.com/notebooks/data_table.ipynb>data table notebook</a>'\n",
              "            + ' to learn more about interactive tables.';\n",
              "          element.innerHTML = '';\n",
              "          dataTable['output_type'] = 'display_data';\n",
              "          await google.colab.output.renderOutput(dataTable, element);\n",
              "          const docLink = document.createElement('div');\n",
              "          docLink.innerHTML = docLinkHtml;\n",
              "          element.appendChild(docLink);\n",
              "        }\n",
              "      </script>\n",
              "    </div>\n",
              "  </div>\n",
              "  "
            ],
            "text/plain": [
              "                         count           mean            std     min      25%  \\\n",
              "id                    381109.0  190555.000000  110016.836208     1.0  95278.0   \n",
              "Gender                381109.0       0.540761       0.498336     0.0      0.0   \n",
              "Age                   381109.0      38.822584      15.511611    20.0     25.0   \n",
              "Driving_License       381109.0       0.997869       0.046110     0.0      1.0   \n",
              "Region_Code           381109.0      26.388807      13.229888     0.0     15.0   \n",
              "Previously_Insured    381109.0       0.458210       0.498251     0.0      0.0   \n",
              "Vehicle_Age           381109.0       0.609616       0.567439     0.0      0.0   \n",
              "Vehicle_Damage        381109.0       0.504877       0.499977     0.0      0.0   \n",
              "Annual_Premium        381109.0   30564.389581   17213.155057  2630.0  24405.0   \n",
              "Policy_Sales_Channel  381109.0     112.034295      54.203995     1.0     29.0   \n",
              "Vintage               381109.0     154.347397      83.671304    10.0     82.0   \n",
              "Response              381109.0       0.122563       0.327936     0.0      0.0   \n",
              "\n",
              "                           50%       75%       max  \n",
              "id                    190555.0  285832.0  381109.0  \n",
              "Gender                     1.0       1.0       1.0  \n",
              "Age                       36.0      49.0      85.0  \n",
              "Driving_License            1.0       1.0       1.0  \n",
              "Region_Code               28.0      35.0      52.0  \n",
              "Previously_Insured         0.0       1.0       1.0  \n",
              "Vehicle_Age                1.0       1.0       2.0  \n",
              "Vehicle_Damage             1.0       1.0       1.0  \n",
              "Annual_Premium         31669.0   39400.0  540165.0  \n",
              "Policy_Sales_Channel     133.0     152.0     163.0  \n",
              "Vintage                  154.0     227.0     299.0  \n",
              "Response                   0.0       0.0       1.0  "
            ]
          },
          "metadata": {},
          "output_type": "display_data"
        },
        {
          "name": "stdout",
          "output_type": "stream",
          "text": [
            "================================================================================\n",
            "Dataframe Shape\n",
            " (381109, 12)\n",
            "================================================================================\n",
            "Number of Duplicate Rows\n",
            " 0\n",
            "================================================================================\n",
            "NULL Values Check\n",
            "id 0\n",
            "Gender 0\n",
            "Age 0\n",
            "Driving_License 0\n",
            "Region_Code 0\n",
            "Previously_Insured 0\n",
            "Vehicle_Age 0\n",
            "Vehicle_Damage 0\n",
            "Annual_Premium 0\n",
            "Policy_Sales_Channel 0\n",
            "Vintage 0\n",
            "Response 0\n",
            "================================================================================\n",
            "UNIQUE VALUES IN EVERY COLUMN\n",
            "id\n",
            "[     1      2      3 ... 381107 381108 381109]\n",
            "--------------------------------------------------------------------------------\n",
            "Gender\n",
            "[1 0]\n",
            "--------------------------------------------------------------------------------\n",
            "Age\n",
            "[44 76 47 21 29 24 23 56 32 41 71 37 25 42 60 65 49 34 51 26 57 79 48 45\n",
            " 72 30 54 27 38 22 78 20 39 62 58 59 63 50 67 77 28 69 52 31 33 43 36 53\n",
            " 70 46 55 40 61 75 64 35 66 68 74 73 84 83 81 80 82 85]\n",
            "--------------------------------------------------------------------------------\n",
            "Driving_License\n",
            "[1 0]\n",
            "--------------------------------------------------------------------------------\n",
            "Region_Code\n",
            "[28.  3. 11. 41. 33.  6. 35. 50. 15. 45.  8. 36. 30. 26. 16. 47. 48. 19.\n",
            " 39. 23. 37.  5. 17.  2.  7. 29. 46. 27. 25. 13. 18. 20. 49. 22. 44.  0.\n",
            "  9. 31. 12. 34. 21. 10. 14. 38. 24. 40. 43. 32.  4. 51. 42.  1. 52.]\n",
            "--------------------------------------------------------------------------------\n",
            "Previously_Insured\n",
            "[0 1]\n",
            "--------------------------------------------------------------------------------\n",
            "Vehicle_Age\n",
            "[2 1 0]\n",
            "--------------------------------------------------------------------------------\n",
            "Vehicle_Damage\n",
            "[1 0]\n",
            "--------------------------------------------------------------------------------\n",
            "Annual_Premium\n",
            "[ 40454.  33536.  38294. ...  20706. 101664.  69845.]\n",
            "--------------------------------------------------------------------------------\n",
            "Policy_Sales_Channel\n",
            "[ 26. 152. 160. 124.  14.  13.  30. 156. 163. 157. 122.  19.  22.  15.\n",
            " 154.  16.  52. 155.  11. 151. 125.  25.  61.   1.  86.  31. 150.  23.\n",
            "  60.  21. 121.   3. 139.  12.  29.  55.   7.  47. 127. 153.  78. 158.\n",
            "  89.  32.   8.  10. 120.  65.   4.  42.  83. 136.  24.  18.  56.  48.\n",
            " 106.  54.  93. 116.  91.  45.   9. 145. 147.  44. 109.  37. 140. 107.\n",
            " 128. 131. 114. 118. 159. 119. 105. 135.  62. 138. 129.  88.  92. 111.\n",
            " 113.  73.  36.  28.  35.  59.  53. 148. 133. 108.  64.  39.  94. 132.\n",
            "  46.  81. 103.  90.  51.  27. 146.  63.  96.  40.  66. 100.  95. 123.\n",
            "  98.  75.  69. 130. 134.  49.  97.  38.  17. 110.  80.  71. 117.  58.\n",
            "  20.  76. 104.  87.  84. 137. 126.  68.  67. 101. 115.  57.  82.  79.\n",
            " 112.  99.  70.   2.  34.  33.  74. 102. 149.  43.   6.  50. 144. 143.\n",
            "  41.]\n",
            "--------------------------------------------------------------------------------\n",
            "Vintage\n",
            "[217 183  27 203  39 176 249  72  28  80  46 289 221  15  58 147 256 299\n",
            " 158 102 116 177 232  60 180  49  57 223 136 222 149 169  88 253 107 264\n",
            " 233  45 184 251 153 186  71  34  83  12 246 141 216 130 282  73 171 283\n",
            " 295 165  30 218  22  36  79  81 100  63 242 277  61 111 167  74 235 131\n",
            " 243 248 114 281  62 189 139 138 209 254 291  68  92  52  78 156 247 275\n",
            "  77 181 229 166  16  23  31 293 219  50 155  66 260  19 258 117 193 204\n",
            " 212 144 234 206 228 125  29  18  84 230  54 123 101  86  13 237  85  98\n",
            "  67 128  95  89  99 208 134 135 268 284 119 226 105 142 207 272 263  64\n",
            "  40 245 163  24 265 202 259  91 106 190 162  33 194 287 292  69 239 132\n",
            " 255 152 121 150 143 198 103 127 285 214 151 199  56  59 215 104 238 120\n",
            "  21  32 270 211 200 197  11 213  93 113 178  10 290  94 231 296  47 122\n",
            " 271 278 276  96 240 172 257 224 173 220 185  90  51 205  70 160 137 168\n",
            "  87 118 288 126 241  82 227 115 164 236 286 244 108 274 201  97  25 174\n",
            " 182 154  48  20  53  17 261  41 266  35 140 269 146 145  65 298 133 195\n",
            "  55 188  75  38  43 110  37 129 170 109 267 279 112 280  76 191  26 161\n",
            " 179 175 252  42 124 187 148 294  44 157 192 262 159 210 250  14 273 297\n",
            " 225 196]\n",
            "--------------------------------------------------------------------------------\n",
            "Response\n",
            "[1 0]\n",
            "--------------------------------------------------------------------------------\n",
            "CATEGORICAL FEATURES\n",
            " []\n",
            "================================================================================\n",
            "NUMERICAL FEATURES\n",
            " ['id', 'Gender', 'Age', 'Driving_License', 'Region_Code', 'Previously_Insured', 'Vehicle_Age', 'Vehicle_Damage', 'Annual_Premium', 'Policy_Sales_Channel', 'Vintage', 'Response']\n",
            "================================================================================\n",
            "Negative Valued Column\n",
            "================================================================================\n"
          ]
        },
        {
          "data": {
            "text/html": [
              "\n",
              "  <div id=\"df-561a1f44-e243-4900-b0d8-590897c42b86\">\n",
              "    <div class=\"colab-df-container\">\n",
              "      <div>\n",
              "<style scoped>\n",
              "    .dataframe tbody tr th:only-of-type {\n",
              "        vertical-align: middle;\n",
              "    }\n",
              "\n",
              "    .dataframe tbody tr th {\n",
              "        vertical-align: top;\n",
              "    }\n",
              "\n",
              "    .dataframe thead th {\n",
              "        text-align: right;\n",
              "    }\n",
              "</style>\n",
              "<table border=\"1\" class=\"dataframe\">\n",
              "  <thead>\n",
              "    <tr style=\"text-align: right;\">\n",
              "      <th></th>\n",
              "      <th>id</th>\n",
              "      <th>Gender</th>\n",
              "      <th>Age</th>\n",
              "      <th>Driving_License</th>\n",
              "      <th>Region_Code</th>\n",
              "      <th>Previously_Insured</th>\n",
              "      <th>Vehicle_Age</th>\n",
              "      <th>Vehicle_Damage</th>\n",
              "      <th>Annual_Premium</th>\n",
              "      <th>Policy_Sales_Channel</th>\n",
              "      <th>Vintage</th>\n",
              "      <th>Response</th>\n",
              "    </tr>\n",
              "  </thead>\n",
              "  <tbody>\n",
              "    <tr>\n",
              "      <th>0</th>\n",
              "      <td>1</td>\n",
              "      <td>1</td>\n",
              "      <td>44</td>\n",
              "      <td>1</td>\n",
              "      <td>28.0</td>\n",
              "      <td>0</td>\n",
              "      <td>2</td>\n",
              "      <td>1</td>\n",
              "      <td>40454.0</td>\n",
              "      <td>26.0</td>\n",
              "      <td>217</td>\n",
              "      <td>1</td>\n",
              "    </tr>\n",
              "    <tr>\n",
              "      <th>1</th>\n",
              "      <td>2</td>\n",
              "      <td>1</td>\n",
              "      <td>76</td>\n",
              "      <td>1</td>\n",
              "      <td>3.0</td>\n",
              "      <td>0</td>\n",
              "      <td>1</td>\n",
              "      <td>0</td>\n",
              "      <td>33536.0</td>\n",
              "      <td>26.0</td>\n",
              "      <td>183</td>\n",
              "      <td>0</td>\n",
              "    </tr>\n",
              "    <tr>\n",
              "      <th>2</th>\n",
              "      <td>3</td>\n",
              "      <td>1</td>\n",
              "      <td>47</td>\n",
              "      <td>1</td>\n",
              "      <td>28.0</td>\n",
              "      <td>0</td>\n",
              "      <td>2</td>\n",
              "      <td>1</td>\n",
              "      <td>38294.0</td>\n",
              "      <td>26.0</td>\n",
              "      <td>27</td>\n",
              "      <td>1</td>\n",
              "    </tr>\n",
              "  </tbody>\n",
              "</table>\n",
              "</div>\n",
              "      <button class=\"colab-df-convert\" onclick=\"convertToInteractive('df-561a1f44-e243-4900-b0d8-590897c42b86')\"\n",
              "              title=\"Convert this dataframe to an interactive table.\"\n",
              "              style=\"display:none;\">\n",
              "        \n",
              "  <svg xmlns=\"http://www.w3.org/2000/svg\" height=\"24px\"viewBox=\"0 0 24 24\"\n",
              "       width=\"24px\">\n",
              "    <path d=\"M0 0h24v24H0V0z\" fill=\"none\"/>\n",
              "    <path d=\"M18.56 5.44l.94 2.06.94-2.06 2.06-.94-2.06-.94-.94-2.06-.94 2.06-2.06.94zm-11 1L8.5 8.5l.94-2.06 2.06-.94-2.06-.94L8.5 2.5l-.94 2.06-2.06.94zm10 10l.94 2.06.94-2.06 2.06-.94-2.06-.94-.94-2.06-.94 2.06-2.06.94z\"/><path d=\"M17.41 7.96l-1.37-1.37c-.4-.4-.92-.59-1.43-.59-.52 0-1.04.2-1.43.59L10.3 9.45l-7.72 7.72c-.78.78-.78 2.05 0 2.83L4 21.41c.39.39.9.59 1.41.59.51 0 1.02-.2 1.41-.59l7.78-7.78 2.81-2.81c.8-.78.8-2.07 0-2.86zM5.41 20L4 18.59l7.72-7.72 1.47 1.35L5.41 20z\"/>\n",
              "  </svg>\n",
              "      </button>\n",
              "      \n",
              "  <style>\n",
              "    .colab-df-container {\n",
              "      display:flex;\n",
              "      flex-wrap:wrap;\n",
              "      gap: 12px;\n",
              "    }\n",
              "\n",
              "    .colab-df-convert {\n",
              "      background-color: #E8F0FE;\n",
              "      border: none;\n",
              "      border-radius: 50%;\n",
              "      cursor: pointer;\n",
              "      display: none;\n",
              "      fill: #1967D2;\n",
              "      height: 32px;\n",
              "      padding: 0 0 0 0;\n",
              "      width: 32px;\n",
              "    }\n",
              "\n",
              "    .colab-df-convert:hover {\n",
              "      background-color: #E2EBFA;\n",
              "      box-shadow: 0px 1px 2px rgba(60, 64, 67, 0.3), 0px 1px 3px 1px rgba(60, 64, 67, 0.15);\n",
              "      fill: #174EA6;\n",
              "    }\n",
              "\n",
              "    [theme=dark] .colab-df-convert {\n",
              "      background-color: #3B4455;\n",
              "      fill: #D2E3FC;\n",
              "    }\n",
              "\n",
              "    [theme=dark] .colab-df-convert:hover {\n",
              "      background-color: #434B5C;\n",
              "      box-shadow: 0px 1px 3px 1px rgba(0, 0, 0, 0.15);\n",
              "      filter: drop-shadow(0px 1px 2px rgba(0, 0, 0, 0.3));\n",
              "      fill: #FFFFFF;\n",
              "    }\n",
              "  </style>\n",
              "\n",
              "      <script>\n",
              "        const buttonEl =\n",
              "          document.querySelector('#df-561a1f44-e243-4900-b0d8-590897c42b86 button.colab-df-convert');\n",
              "        buttonEl.style.display =\n",
              "          google.colab.kernel.accessAllowed ? 'block' : 'none';\n",
              "\n",
              "        async function convertToInteractive(key) {\n",
              "          const element = document.querySelector('#df-561a1f44-e243-4900-b0d8-590897c42b86');\n",
              "          const dataTable =\n",
              "            await google.colab.kernel.invokeFunction('convertToInteractive',\n",
              "                                                     [key], {});\n",
              "          if (!dataTable) return;\n",
              "\n",
              "          const docLinkHtml = 'Like what you see? Visit the ' +\n",
              "            '<a target=\"_blank\" href=https://colab.research.google.com/notebooks/data_table.ipynb>data table notebook</a>'\n",
              "            + ' to learn more about interactive tables.';\n",
              "          element.innerHTML = '';\n",
              "          dataTable['output_type'] = 'display_data';\n",
              "          await google.colab.output.renderOutput(dataTable, element);\n",
              "          const docLink = document.createElement('div');\n",
              "          docLink.innerHTML = docLinkHtml;\n",
              "          element.appendChild(docLink);\n",
              "        }\n",
              "      </script>\n",
              "    </div>\n",
              "  </div>\n",
              "  "
            ],
            "text/plain": [
              "   id  Gender  Age  Driving_License  Region_Code  Previously_Insured  \\\n",
              "0   1       1   44                1         28.0                   0   \n",
              "1   2       1   76                1          3.0                   0   \n",
              "2   3       1   47                1         28.0                   0   \n",
              "\n",
              "   Vehicle_Age  Vehicle_Damage  Annual_Premium  Policy_Sales_Channel  Vintage  \\\n",
              "0            2               1         40454.0                  26.0      217   \n",
              "1            1               0         33536.0                  26.0      183   \n",
              "2            2               1         38294.0                  26.0       27   \n",
              "\n",
              "   Response  \n",
              "0         1  \n",
              "1         0  \n",
              "2         1  "
            ]
          },
          "metadata": {},
          "output_type": "display_data"
        }
      ],
      "source": [
        "get_metadata(train)"
      ]
    },
    {
      "cell_type": "code",
      "execution_count": null,
      "metadata": {
        "id": "hSro-g0-vlHT"
      },
      "outputs": [],
      "source": [
        "# get_metadata(test)"
      ]
    },
    {
      "cell_type": "markdown",
      "metadata": {
        "id": "dOvjGEPWvlHU"
      },
      "source": [
        "## Value Counts"
      ]
    },
    {
      "cell_type": "code",
      "execution_count": null,
      "metadata": {
        "colab": {
          "base_uri": "https://localhost:8080/"
        },
        "id": "EyYuIjSwvlHU",
        "outputId": "042a2274-b969-434c-ab22-1c355b9809c5"
      },
      "outputs": [
        {
          "data": {
            "text/plain": [
              "0    334399\n",
              "1     46710\n",
              "Name: Response, dtype: int64"
            ]
          },
          "execution_count": 13,
          "metadata": {},
          "output_type": "execute_result"
        }
      ],
      "source": [
        "train['Response'].value_counts()"
      ]
    },
    {
      "cell_type": "code",
      "execution_count": null,
      "metadata": {
        "colab": {
          "base_uri": "https://localhost:8080/",
          "height": 369
        },
        "id": "XB_2LOBUvlHU",
        "outputId": "eaf55e91-09ae-4b2c-b9cb-c6927443dafc"
      },
      "outputs": [
        {
          "data": {
            "image/png": "[encoded data removed]",
            "text/plain": [
              "<Figure size 576x360 with 1 Axes>"
            ]
          },
          "metadata": {
            "needs_background": "light"
          },
          "output_type": "display_data"
        }
      ],
      "source": [
        "plt.figure(figsize=(8, 5))\n",
        "resp_count = sns.countplot(x='Response', data=train)\n",
        "plt.title('Value Counts on Response')\n",
        "total = len(train)\n",
        "for p in resp_count.patches:\n",
        "    percentage = f'{100 * p.get_height() / total:.1f}%\\n'\n",
        "    x = p.get_x() + p.get_width() / 2\n",
        "    y = p.get_height()\n",
        "    resp_count.annotate(percentage, (x, y), ha='center', va='center')\n",
        "plt.tight_layout()\n",
        "plt.show()"
      ]
    },
    {
      "cell_type": "code",
      "execution_count": null,
      "metadata": {
        "colab": {
          "base_uri": "https://localhost:8080/",
          "height": 369
        },
        "id": "be53zOQsvlHU",
        "outputId": "1dd5bbc7-c955-4504-83d9-4b2dde3ede09"
      },
      "outputs": [
        {
          "data": {
            "image/png": "[encoded data removed]",
            "text/plain": [
              "<Figure size 576x360 with 1 Axes>"
            ]
          },
          "metadata": {
            "needs_background": "light"
          },
          "output_type": "display_data"
        }
      ],
      "source": [
        "plt.figure(figsize=(8, 5))\n",
        "resp_count = sns.countplot(x='Gender', hue = 'Response', data=train)\n",
        "plt.title('Value Counts on Gender with Response Hue')\n",
        "total = len(train)\n",
        "for p in resp_count.patches:\n",
        "    percentage = f'{100 * p.get_height() / total:.1f}%\\n'\n",
        "    x = p.get_x() + p.get_width() / 2\n",
        "    y = p.get_height()\n",
        "    resp_count.annotate(percentage, (x, y), ha='center', va='center')\n",
        "plt.tight_layout()\n",
        "plt.show()"
      ]
    },
    {
      "cell_type": "code",
      "execution_count": null,
      "metadata": {
        "colab": {
          "base_uri": "https://localhost:8080/",
          "height": 369
        },
        "id": "_bzJGP4CvlHU",
        "outputId": "bf5653cb-c06d-4b18-80ad-32e6fbab21e7"
      },
      "outputs": [
        {
          "data": {
            "image/png": "[encoded data removed]",
            "text/plain": [
              "<Figure size 576x360 with 1 Axes>"
            ]
          },
          "metadata": {
            "needs_background": "light"
          },
          "output_type": "display_data"
        }
      ],
      "source": [
        "plt.figure(figsize=(8, 5))\n",
        "resp_count = sns.countplot(x='Driving_License', hue = 'Response', data=train)\n",
        "plt.title('Value Counts on Driving_License with Response Hue')\n",
        "total = len(train)\n",
        "for p in resp_count.patches:\n",
        "    percentage = f'{100 * p.get_height() / total:.2f}%\\n'\n",
        "    x = p.get_x() + p.get_width() / 2\n",
        "    y = p.get_height()\n",
        "    resp_count.annotate(percentage, (x, y), ha='center', va='center')\n",
        "plt.tight_layout()\n",
        "plt.show()"
      ]
    },
    {
      "cell_type": "code",
      "execution_count": null,
      "metadata": {
        "colab": {
          "base_uri": "https://localhost:8080/",
          "height": 536
        },
        "id": "TPqx56ljvlHV",
        "outputId": "12e00491-c77b-46d4-828d-38c02e90ee8d"
      },
      "outputs": [
        {
          "data": {
            "image/png": "[encoded data removed]",
            "text/plain": [
              "<Figure size 2160x936 with 1 Axes>"
            ]
          },
          "metadata": {
            "needs_background": "light"
          },
          "output_type": "display_data"
        }
      ],
      "source": [
        "plt.figure(figsize=(30, 13))\n",
        "resp_count = sns.countplot(x='Region_Code', data=train, hue='Response')\n",
        "plt.title('Value Counts on Region_Code with Response Hue')\n",
        "total = len(train)\n",
        "for p in resp_count.patches:\n",
        "    percentage = f'{100 * p.get_height() / total:.2f}%\\n'\n",
        "    x = p.get_x() + p.get_width() / 2\n",
        "    y = p.get_height()\n",
        "    resp_count.annotate(percentage, (x, y), rotation=90)\n",
        "plt.xticks(rotation=90)\n",
        "plt.tight_layout()\n",
        "plt.show()"
      ]
    },
    {
      "cell_type": "code",
      "execution_count": null,
      "metadata": {
        "colab": {
          "base_uri": "https://localhost:8080/",
          "height": 415
        },
        "id": "cjhdIREQvlHV",
        "outputId": "3e20593b-205a-4970-f5fe-9cfe331434b2"
      },
      "outputs": [
        {
          "data": {
            "image/png": "[encoded data removed]",
            "text/plain": [
              "<Figure size 2160x720 with 1 Axes>"
            ]
          },
          "metadata": {
            "needs_background": "light"
          },
          "output_type": "display_data"
        }
      ],
      "source": [
        "plt.figure(figsize=(30, 10))\n",
        "resp_count = sns.countplot(x='Age', data=train, hue='Response')\n",
        "plt.title('Value Counts on Age with Response Hue')\n",
        "total = len(train)\n",
        "for p in resp_count.patches:\n",
        "    percentage = f'{100 * p.get_height() / total:.2f}%\\n'\n",
        "    x = p.get_x() + p.get_width() / 2\n",
        "    y = p.get_height()\n",
        "    resp_count.annotate(percentage, (x, y), rotation=90)\n",
        "plt.xticks(rotation=90)\n",
        "plt.tight_layout()\n",
        "plt.show()"
      ]
    },
    {
      "cell_type": "code",
      "execution_count": null,
      "metadata": {
        "colab": {
          "base_uri": "https://localhost:8080/",
          "height": 369
        },
        "id": "U4vS1-UkvlHV",
        "outputId": "4ff6cd34-93aa-4b0a-97fd-9db66eedfa62"
      },
      "outputs": [
        {
          "data": {
            "image/png": "[encoded data removed]",
            "text/plain": [
              "<Figure size 576x360 with 1 Axes>"
            ]
          },
          "metadata": {
            "needs_background": "light"
          },
          "output_type": "display_data"
        }
      ],
      "source": [
        "plt.figure(figsize=(8, 5))\n",
        "resp_count = sns.countplot(x='Previously_Insured', hue = 'Response', data=train)\n",
        "plt.title('Value Counts on Previously_Insured with Response Hue')\n",
        "total = len(train)\n",
        "for p in resp_count.patches:\n",
        "    percentage = f'{100 * p.get_height() / total:.2f}%\\n'\n",
        "    x = p.get_x() + p.get_width() / 2\n",
        "    y = p.get_height()\n",
        "    resp_count.annotate(percentage, (x, y), ha='center', va='center')\n",
        "plt.tight_layout()\n",
        "plt.show()"
      ]
    },
    {
      "cell_type": "code",
      "execution_count": null,
      "metadata": {
        "colab": {
          "base_uri": "https://localhost:8080/",
          "height": 369
        },
        "id": "7khjcbEcvlHV",
        "outputId": "1377c156-a954-4fd9-d7b4-7a91be32ea01"
      },
      "outputs": [
        {
          "data": {
            "image/png": "[encoded data removed]",
            "text/plain": [
              "<Figure size 576x360 with 1 Axes>"
            ]
          },
          "metadata": {
            "needs_background": "light"
          },
          "output_type": "display_data"
        }
      ],
      "source": [
        "plt.figure(figsize=(8, 5))\n",
        "resp_count = sns.countplot(x='Vehicle_Age', hue = 'Response', data=train)\n",
        "plt.title('Value Counts on Vehicle_Age with Response Hue')\n",
        "total = len(train)\n",
        "for p in resp_count.patches:\n",
        "    percentage = f'{100 * p.get_height() / total:.2f}%\\n'\n",
        "    x = p.get_x() + p.get_width() / 2\n",
        "    y = p.get_height()\n",
        "    resp_count.annotate(percentage, (x, y), ha='center', va='center')\n",
        "plt.tight_layout()\n",
        "plt.show()"
      ]
    },
    {
      "cell_type": "code",
      "execution_count": null,
      "metadata": {
        "colab": {
          "base_uri": "https://localhost:8080/",
          "height": 369
        },
        "id": "U0qD6JXpvlHW",
        "outputId": "72c7435b-1942-426e-90e0-a80bf134f829"
      },
      "outputs": [
        {
          "data": {
            "image/png": "[encoded data removed]",
            "text/plain": [
              "<Figure size 576x360 with 1 Axes>"
            ]
          },
          "metadata": {
            "needs_background": "light"
          },
          "output_type": "display_data"
        }
      ],
      "source": [
        "plt.figure(figsize=(8, 5))\n",
        "resp_count = sns.countplot(x='Vehicle_Damage', hue = 'Response', data=train)\n",
        "plt.title('Value Counts on Vehicle_Damage with Response Hue')\n",
        "total = len(train)\n",
        "for p in resp_count.patches:\n",
        "    percentage = f'{100 * p.get_height() / total:.2f}%\\n'\n",
        "    x = p.get_x() + p.get_width() / 2\n",
        "    y = p.get_height()\n",
        "    resp_count.annotate(percentage, (x, y), ha='center', va='center')\n",
        "plt.tight_layout()\n",
        "plt.show()"
      ]
    },
    {
      "cell_type": "code",
      "execution_count": null,
      "metadata": {
        "colab": {
          "base_uri": "https://localhost:8080/",
          "height": 282
        },
        "id": "joCGr7AyvlHW",
        "outputId": "7b378fbe-ed76-47f1-ec58-a032e1bf11fe"
      },
      "outputs": [
        {
          "data": {
            "image/png": "[encoded data removed]",
            "text/plain": [
              "<Figure size 3240x720 with 1 Axes>"
            ]
          },
          "metadata": {
            "needs_background": "light"
          },
          "output_type": "display_data"
        }
      ],
      "source": [
        "plt.figure(figsize=(45, 10))\n",
        "resp_count = sns.countplot(x='Policy_Sales_Channel', data=train, hue='Response')\n",
        "plt.title('Value Counts on Policy_Sales_Channel')\n",
        "total = len(train)\n",
        "for p in resp_count.patches:\n",
        "    percentage = f'{100 * p.get_height() / total:.2f}%\\n'\n",
        "    x = p.get_x() + p.get_width() / 2\n",
        "    y = p.get_height()\n",
        "    resp_count.annotate(percentage, (x, y), rotation=90)\n",
        "plt.xticks(rotation=90)\n",
        "plt.tight_layout()\n",
        "plt.show()"
      ]
    },
    {
      "cell_type": "code",
      "execution_count": null,
      "metadata": {
        "colab": {
          "base_uri": "https://localhost:8080/",
          "height": 255
        },
        "id": "e4tKr-zlvlHW",
        "outputId": "d2213f74-1a58-4825-d3e4-4c01b79c9eff"
      },
      "outputs": [
        {
          "data": {
            "image/png": "[encoded data removed]",
            "text/plain": [
              "<Figure size 3600x720 with 1 Axes>"
            ]
          },
          "metadata": {
            "needs_background": "light"
          },
          "output_type": "display_data"
        }
      ],
      "source": [
        "plt.figure(figsize=(50, 10))\n",
        "resp_count = sns.countplot(x='Vintage', data=train)\n",
        "plt.title('Value Counts on Vintage')\n",
        "total = len(train)\n",
        "for p in resp_count.patches:\n",
        "    percentage = f'{100 * p.get_height() / total:.2f}%\\n'\n",
        "    x = p.get_x() + p.get_width() / 2\n",
        "    y = p.get_height()\n",
        "    resp_count.annotate(percentage, (x, y), rotation=90)\n",
        "plt.xticks(rotation=90)\n",
        "plt.tight_layout()\n",
        "plt.show()"
      ]
    },
    {
      "cell_type": "code",
      "execution_count": null,
      "metadata": {
        "id": "qKPGc90xvlHW"
      },
      "outputs": [],
      "source": []
    },
    {
      "cell_type": "code",
      "execution_count": null,
      "metadata": {
        "id": "lNF9n9zEvlHW"
      },
      "outputs": [],
      "source": [
        "# train.groupby('Gender').size().plot(kind='bar')"
      ]
    },
    {
      "cell_type": "markdown",
      "metadata": {
        "id": "bKGy9uGGvlHX"
      },
      "source": [
        "## Feature Selection"
      ]
    },
    {
      "cell_type": "code",
      "execution_count": null,
      "metadata": {
        "colab": {
          "base_uri": "https://localhost:8080/",
          "height": 366
        },
        "id": "jW2Tv2thvlHX",
        "outputId": "5f870885-6323-4f6c-e47e-d0db3d1e1797"
      },
      "outputs": [
        {
          "name": "stderr",
          "output_type": "stream",
          "text": [
            "<ipython-input-25-77f55855aeb9>:2: FutureWarning: this method is deprecated in favour of `Styler.format(precision=..)`\n",
            "  corr_matrix.style.background_gradient(cmap='YlGn').set_precision(3)\n"
          ]
        },
        {
          "data": {
            "text/html": [
              "<style type=\"text/css\">\n",
              "#T_2eb16_row0_col0, #T_2eb16_row1_col1, #T_2eb16_row2_col2, #T_2eb16_row3_col3, #T_2eb16_row4_col4, #T_2eb16_row5_col5, #T_2eb16_row6_col6, #T_2eb16_row7_col7, #T_2eb16_row8_col8 {\n",
              "  background-color: #004529;\n",
              "  color: #f1f1f1;\n",
              "}\n",
              "#T_2eb16_row0_col1 {\n",
              "  background-color: #afde8f;\n",
              "  color: #000000;\n",
              "}\n",
              "#T_2eb16_row0_col2, #T_2eb16_row3_col2, #T_2eb16_row7_col2 {\n",
              "  background-color: #fafdcc;\n",
              "  color: #000000;\n",
              "}\n",
              "#T_2eb16_row0_col3, #T_2eb16_row2_col3 {\n",
              "  background-color: #fcfed7;\n",
              "  color: #000000;\n",
              "}\n",
              "#T_2eb16_row0_col4, #T_2eb16_row5_col4, #T_2eb16_row7_col4 {\n",
              "  background-color: #d7efa2;\n",
              "  color: #000000;\n",
              "}\n",
              "#T_2eb16_row0_col5 {\n",
              "  background-color: #f8fdc1;\n",
              "  color: #000000;\n",
              "}\n",
              "#T_2eb16_row0_col6, #T_2eb16_row7_col1, #T_2eb16_row7_col6 {\n",
              "  background-color: #b1df90;\n",
              "  color: #000000;\n",
              "}\n",
              "#T_2eb16_row0_col7, #T_2eb16_row1_col2, #T_2eb16_row1_col6, #T_2eb16_row1_col7, #T_2eb16_row2_col0, #T_2eb16_row2_col7, #T_2eb16_row3_col0, #T_2eb16_row3_col7, #T_2eb16_row4_col8, #T_2eb16_row5_col7, #T_2eb16_row6_col0, #T_2eb16_row6_col1, #T_2eb16_row6_col3, #T_2eb16_row6_col5, #T_2eb16_row6_col7, #T_2eb16_row7_col0, #T_2eb16_row8_col0, #T_2eb16_row8_col4, #T_2eb16_row8_col7 {\n",
              "  background-color: #ffffe5;\n",
              "  color: #000000;\n",
              "}\n",
              "#T_2eb16_row0_col8, #T_2eb16_row7_col8 {\n",
              "  background-color: #d9f0a3;\n",
              "  color: #000000;\n",
              "}\n",
              "#T_2eb16_row1_col0, #T_2eb16_row4_col0, #T_2eb16_row4_col7, #T_2eb16_row5_col0 {\n",
              "  background-color: #ffffe4;\n",
              "  color: #000000;\n",
              "}\n",
              "#T_2eb16_row1_col3 {\n",
              "  background-color: #fafdc9;\n",
              "  color: #000000;\n",
              "}\n",
              "#T_2eb16_row1_col4, #T_2eb16_row5_col2 {\n",
              "  background-color: #fbfdcf;\n",
              "  color: #000000;\n",
              "}\n",
              "#T_2eb16_row1_col5 {\n",
              "  background-color: #eef9b3;\n",
              "  color: #000000;\n",
              "}\n",
              "#T_2eb16_row1_col8, #T_2eb16_row3_col6 {\n",
              "  background-color: #bae394;\n",
              "  color: #000000;\n",
              "}\n",
              "#T_2eb16_row2_col1 {\n",
              "  background-color: #c3e698;\n",
              "  color: #000000;\n",
              "}\n",
              "#T_2eb16_row2_col4, #T_2eb16_row2_col8, #T_2eb16_row3_col8 {\n",
              "  background-color: #d5eea1;\n",
              "  color: #000000;\n",
              "}\n",
              "#T_2eb16_row2_col5, #T_2eb16_row3_col5 {\n",
              "  background-color: #f9fdc5;\n",
              "  color: #000000;\n",
              "}\n",
              "#T_2eb16_row2_col6, #T_2eb16_row3_col1 {\n",
              "  background-color: #a6da8b;\n",
              "  color: #000000;\n",
              "}\n",
              "#T_2eb16_row3_col4 {\n",
              "  background-color: #ddf1a6;\n",
              "  color: #000000;\n",
              "}\n",
              "#T_2eb16_row4_col1 {\n",
              "  background-color: #e4f4ab;\n",
              "  color: #000000;\n",
              "}\n",
              "#T_2eb16_row4_col2 {\n",
              "  background-color: #f9fdc7;\n",
              "  color: #000000;\n",
              "}\n",
              "#T_2eb16_row4_col3 {\n",
              "  background-color: #feffdf;\n",
              "  color: #000000;\n",
              "}\n",
              "#T_2eb16_row4_col5 {\n",
              "  background-color: #f8fcc0;\n",
              "  color: #000000;\n",
              "}\n",
              "#T_2eb16_row4_col6 {\n",
              "  background-color: #75c578;\n",
              "  color: #000000;\n",
              "}\n",
              "#T_2eb16_row5_col1 {\n",
              "  background-color: #9fd788;\n",
              "  color: #000000;\n",
              "}\n",
              "#T_2eb16_row5_col3 {\n",
              "  background-color: #fdfedb;\n",
              "  color: #000000;\n",
              "}\n",
              "#T_2eb16_row5_col6 {\n",
              "  background-color: #c9e99c;\n",
              "  color: #000000;\n",
              "}\n",
              "#T_2eb16_row5_col8 {\n",
              "  background-color: #d2eda0;\n",
              "  color: #000000;\n",
              "}\n",
              "#T_2eb16_row6_col2 {\n",
              "  background-color: #f8fcbd;\n",
              "  color: #000000;\n",
              "}\n",
              "#T_2eb16_row6_col4 {\n",
              "  background-color: #9cd687;\n",
              "  color: #000000;\n",
              "}\n",
              "#T_2eb16_row6_col8 {\n",
              "  background-color: #f1fab5;\n",
              "  color: #000000;\n",
              "}\n",
              "#T_2eb16_row7_col3 {\n",
              "  background-color: #fdfed9;\n",
              "  color: #000000;\n",
              "}\n",
              "#T_2eb16_row7_col5 {\n",
              "  background-color: #f9fdc2;\n",
              "  color: #000000;\n",
              "}\n",
              "#T_2eb16_row8_col1 {\n",
              "  background-color: #93d284;\n",
              "  color: #000000;\n",
              "}\n",
              "#T_2eb16_row8_col2 {\n",
              "  background-color: #fafdc8;\n",
              "  color: #000000;\n",
              "}\n",
              "#T_2eb16_row8_col3 {\n",
              "  background-color: #fcfed3;\n",
              "  color: #000000;\n",
              "}\n",
              "#T_2eb16_row8_col5 {\n",
              "  background-color: #f7fcba;\n",
              "  color: #000000;\n",
              "}\n",
              "#T_2eb16_row8_col6 {\n",
              "  background-color: #cfec9e;\n",
              "  color: #000000;\n",
              "}\n",
              "</style>\n",
              "<table id=\"T_2eb16_\" class=\"dataframe\">\n",
              "  <thead>\n",
              "    <tr>\n",
              "      <th class=\"blank level0\" >&nbsp;</th>\n",
              "      <th class=\"col_heading level0 col0\" >id</th>\n",
              "      <th class=\"col_heading level0 col1\" >Age</th>\n",
              "      <th class=\"col_heading level0 col2\" >Driving_License</th>\n",
              "      <th class=\"col_heading level0 col3\" >Region_Code</th>\n",
              "      <th class=\"col_heading level0 col4\" >Previously_Insured</th>\n",
              "      <th class=\"col_heading level0 col5\" >Annual_Premium</th>\n",
              "      <th class=\"col_heading level0 col6\" >Policy_Sales_Channel</th>\n",
              "      <th class=\"col_heading level0 col7\" >Vintage</th>\n",
              "      <th class=\"col_heading level0 col8\" >Response</th>\n",
              "    </tr>\n",
              "  </thead>\n",
              "  <tbody>\n",
              "    <tr>\n",
              "      <th id=\"T_2eb16_level0_row0\" class=\"row_heading level0 row0\" >id</th>\n",
              "      <td id=\"T_2eb16_row0_col0\" class=\"data row0 col0\" >1.000</td>\n",
              "      <td id=\"T_2eb16_row0_col1\" class=\"data row0 col1\" >0.002</td>\n",
              "      <td id=\"T_2eb16_row0_col2\" class=\"data row0 col2\" >-0.001</td>\n",
              "      <td id=\"T_2eb16_row0_col3\" class=\"data row0 col3\" >-0.001</td>\n",
              "      <td id=\"T_2eb16_row0_col4\" class=\"data row0 col4\" >0.002</td>\n",
              "      <td id=\"T_2eb16_row0_col5\" class=\"data row0 col5\" >0.003</td>\n",
              "      <td id=\"T_2eb16_row0_col6\" class=\"data row0 col6\" >-0.003</td>\n",
              "      <td id=\"T_2eb16_row0_col7\" class=\"data row0 col7\" >-0.001</td>\n",
              "      <td id=\"T_2eb16_row0_col8\" class=\"data row0 col8\" >-0.001</td>\n",
              "    </tr>\n",
              "    <tr>\n",
              "      <th id=\"T_2eb16_level0_row1\" class=\"row_heading level0 row1\" >Age</th>\n",
              "      <td id=\"T_2eb16_row1_col0\" class=\"data row1 col0\" >0.002</td>\n",
              "      <td id=\"T_2eb16_row1_col1\" class=\"data row1 col1\" >1.000</td>\n",
              "      <td id=\"T_2eb16_row1_col2\" class=\"data row1 col2\" >-0.080</td>\n",
              "      <td id=\"T_2eb16_row1_col3\" class=\"data row1 col3\" >0.043</td>\n",
              "      <td id=\"T_2eb16_row1_col4\" class=\"data row1 col4\" >-0.255</td>\n",
              "      <td id=\"T_2eb16_row1_col5\" class=\"data row1 col5\" >0.068</td>\n",
              "      <td id=\"T_2eb16_row1_col6\" class=\"data row1 col6\" >-0.578</td>\n",
              "      <td id=\"T_2eb16_row1_col7\" class=\"data row1 col7\" >-0.001</td>\n",
              "      <td id=\"T_2eb16_row1_col8\" class=\"data row1 col8\" >0.111</td>\n",
              "    </tr>\n",
              "    <tr>\n",
              "      <th id=\"T_2eb16_level0_row2\" class=\"row_heading level0 row2\" >Driving_License</th>\n",
              "      <td id=\"T_2eb16_row2_col0\" class=\"data row2 col0\" >-0.001</td>\n",
              "      <td id=\"T_2eb16_row2_col1\" class=\"data row2 col1\" >-0.080</td>\n",
              "      <td id=\"T_2eb16_row2_col2\" class=\"data row2 col2\" >1.000</td>\n",
              "      <td id=\"T_2eb16_row2_col3\" class=\"data row2 col3\" >-0.001</td>\n",
              "      <td id=\"T_2eb16_row2_col4\" class=\"data row2 col4\" >0.015</td>\n",
              "      <td id=\"T_2eb16_row2_col5\" class=\"data row2 col5\" >-0.012</td>\n",
              "      <td id=\"T_2eb16_row2_col6\" class=\"data row2 col6\" >0.044</td>\n",
              "      <td id=\"T_2eb16_row2_col7\" class=\"data row2 col7\" >-0.001</td>\n",
              "      <td id=\"T_2eb16_row2_col8\" class=\"data row2 col8\" >0.010</td>\n",
              "    </tr>\n",
              "    <tr>\n",
              "      <th id=\"T_2eb16_level0_row3\" class=\"row_heading level0 row3\" >Region_Code</th>\n",
              "      <td id=\"T_2eb16_row3_col0\" class=\"data row3 col0\" >-0.001</td>\n",
              "      <td id=\"T_2eb16_row3_col1\" class=\"data row3 col1\" >0.043</td>\n",
              "      <td id=\"T_2eb16_row3_col2\" class=\"data row3 col2\" >-0.001</td>\n",
              "      <td id=\"T_2eb16_row3_col3\" class=\"data row3 col3\" >1.000</td>\n",
              "      <td id=\"T_2eb16_row3_col4\" class=\"data row3 col4\" >-0.025</td>\n",
              "      <td id=\"T_2eb16_row3_col5\" class=\"data row3 col5\" >-0.011</td>\n",
              "      <td id=\"T_2eb16_row3_col6\" class=\"data row3 col6\" >-0.042</td>\n",
              "      <td id=\"T_2eb16_row3_col7\" class=\"data row3 col7\" >-0.003</td>\n",
              "      <td id=\"T_2eb16_row3_col8\" class=\"data row3 col8\" >0.011</td>\n",
              "    </tr>\n",
              "    <tr>\n",
              "      <th id=\"T_2eb16_level0_row4\" class=\"row_heading level0 row4\" >Previously_Insured</th>\n",
              "      <td id=\"T_2eb16_row4_col0\" class=\"data row4 col0\" >0.002</td>\n",
              "      <td id=\"T_2eb16_row4_col1\" class=\"data row4 col1\" >-0.255</td>\n",
              "      <td id=\"T_2eb16_row4_col2\" class=\"data row4 col2\" >0.015</td>\n",
              "      <td id=\"T_2eb16_row4_col3\" class=\"data row4 col3\" >-0.025</td>\n",
              "      <td id=\"T_2eb16_row4_col4\" class=\"data row4 col4\" >1.000</td>\n",
              "      <td id=\"T_2eb16_row4_col5\" class=\"data row4 col5\" >0.004</td>\n",
              "      <td id=\"T_2eb16_row4_col6\" class=\"data row4 col6\" >0.219</td>\n",
              "      <td id=\"T_2eb16_row4_col7\" class=\"data row4 col7\" >0.003</td>\n",
              "      <td id=\"T_2eb16_row4_col8\" class=\"data row4 col8\" >-0.341</td>\n",
              "    </tr>\n",
              "    <tr>\n",
              "      <th id=\"T_2eb16_level0_row5\" class=\"row_heading level0 row5\" >Annual_Premium</th>\n",
              "      <td id=\"T_2eb16_row5_col0\" class=\"data row5 col0\" >0.003</td>\n",
              "      <td id=\"T_2eb16_row5_col1\" class=\"data row5 col1\" >0.068</td>\n",
              "      <td id=\"T_2eb16_row5_col2\" class=\"data row5 col2\" >-0.012</td>\n",
              "      <td id=\"T_2eb16_row5_col3\" class=\"data row5 col3\" >-0.011</td>\n",
              "      <td id=\"T_2eb16_row5_col4\" class=\"data row5 col4\" >0.004</td>\n",
              "      <td id=\"T_2eb16_row5_col5\" class=\"data row5 col5\" >1.000</td>\n",
              "      <td id=\"T_2eb16_row5_col6\" class=\"data row5 col6\" >-0.113</td>\n",
              "      <td id=\"T_2eb16_row5_col7\" class=\"data row5 col7\" >-0.001</td>\n",
              "      <td id=\"T_2eb16_row5_col8\" class=\"data row5 col8\" >0.023</td>\n",
              "    </tr>\n",
              "    <tr>\n",
              "      <th id=\"T_2eb16_level0_row6\" class=\"row_heading level0 row6\" >Policy_Sales_Channel</th>\n",
              "      <td id=\"T_2eb16_row6_col0\" class=\"data row6 col0\" >-0.003</td>\n",
              "      <td id=\"T_2eb16_row6_col1\" class=\"data row6 col1\" >-0.578</td>\n",
              "      <td id=\"T_2eb16_row6_col2\" class=\"data row6 col2\" >0.044</td>\n",
              "      <td id=\"T_2eb16_row6_col3\" class=\"data row6 col3\" >-0.042</td>\n",
              "      <td id=\"T_2eb16_row6_col4\" class=\"data row6 col4\" >0.219</td>\n",
              "      <td id=\"T_2eb16_row6_col5\" class=\"data row6 col5\" >-0.113</td>\n",
              "      <td id=\"T_2eb16_row6_col6\" class=\"data row6 col6\" >1.000</td>\n",
              "      <td id=\"T_2eb16_row6_col7\" class=\"data row6 col7\" >0.000</td>\n",
              "      <td id=\"T_2eb16_row6_col8\" class=\"data row6 col8\" >-0.139</td>\n",
              "    </tr>\n",
              "    <tr>\n",
              "      <th id=\"T_2eb16_level0_row7\" class=\"row_heading level0 row7\" >Vintage</th>\n",
              "      <td id=\"T_2eb16_row7_col0\" class=\"data row7 col0\" >-0.001</td>\n",
              "      <td id=\"T_2eb16_row7_col1\" class=\"data row7 col1\" >-0.001</td>\n",
              "      <td id=\"T_2eb16_row7_col2\" class=\"data row7 col2\" >-0.001</td>\n",
              "      <td id=\"T_2eb16_row7_col3\" class=\"data row7 col3\" >-0.003</td>\n",
              "      <td id=\"T_2eb16_row7_col4\" class=\"data row7 col4\" >0.003</td>\n",
              "      <td id=\"T_2eb16_row7_col5\" class=\"data row7 col5\" >-0.001</td>\n",
              "      <td id=\"T_2eb16_row7_col6\" class=\"data row7 col6\" >0.000</td>\n",
              "      <td id=\"T_2eb16_row7_col7\" class=\"data row7 col7\" >1.000</td>\n",
              "      <td id=\"T_2eb16_row7_col8\" class=\"data row7 col8\" >-0.001</td>\n",
              "    </tr>\n",
              "    <tr>\n",
              "      <th id=\"T_2eb16_level0_row8\" class=\"row_heading level0 row8\" >Response</th>\n",
              "      <td id=\"T_2eb16_row8_col0\" class=\"data row8 col0\" >-0.001</td>\n",
              "      <td id=\"T_2eb16_row8_col1\" class=\"data row8 col1\" >0.111</td>\n",
              "      <td id=\"T_2eb16_row8_col2\" class=\"data row8 col2\" >0.010</td>\n",
              "      <td id=\"T_2eb16_row8_col3\" class=\"data row8 col3\" >0.011</td>\n",
              "      <td id=\"T_2eb16_row8_col4\" class=\"data row8 col4\" >-0.341</td>\n",
              "      <td id=\"T_2eb16_row8_col5\" class=\"data row8 col5\" >0.023</td>\n",
              "      <td id=\"T_2eb16_row8_col6\" class=\"data row8 col6\" >-0.139</td>\n",
              "      <td id=\"T_2eb16_row8_col7\" class=\"data row8 col7\" >-0.001</td>\n",
              "      <td id=\"T_2eb16_row8_col8\" class=\"data row8 col8\" >1.000</td>\n",
              "    </tr>\n",
              "  </tbody>\n",
              "</table>\n"
            ],
            "text/plain": [
              "<pandas.io.formats.style.Styler at 0x7f402e65dc70>"
            ]
          },
          "execution_count": 25,
          "metadata": {},
          "output_type": "execute_result"
        }
      ],
      "source": [
        "corr_matrix = train.corr()\n",
        "corr_matrix.style.background_gradient(cmap='YlGn').set_precision(3)"
      ]
    },
    {
      "cell_type": "code",
      "execution_count": null,
      "metadata": {
        "id": "U4xZiCdKvlHX"
      },
      "outputs": [],
      "source": [
        "# cs = pd.DataFrame()\n",
        "# cs['features'] = train.columns\n",
        "# cs['Variance_Inflation_Factor'] = [variance_inflation_factor(train.values, i) for i in range(len(train.columns))]\n",
        "# cs"
      ]
    },
    {
      "cell_type": "code",
      "execution_count": null,
      "metadata": {
        "id": "FXSIXw04vlHX"
      },
      "outputs": [],
      "source": [
        "# train_1 = train.drop(['Driving_License', 'Age'], axis=1)\n",
        "# cs_1 = pd.DataFrame()\n",
        "# cs_1['features'] = train_1.columns\n",
        "# cs_1['Variance_Inflation_Factor'] = [variance_inflation_factor(train_1.values, i) for i in range(len(train_1.columns))]\n",
        "# cs_1"
      ]
    },
    {
      "cell_type": "markdown",
      "metadata": {
        "id": "E-mCmdxvvlHX"
      },
      "source": [
        "# Pre-processing"
      ]
    },
    {
      "cell_type": "code",
      "execution_count": null,
      "metadata": {
        "id": "Mh6zs4ydvlHY"
      },
      "outputs": [],
      "source": [
        "train.replace({'Gender': {'Male': 1, 'Female': 0}}, inplace=True)\n",
        "test.replace({'Gender': {'Male': 1, 'Female': 0}}, inplace=True)"
      ]
    },
    {
      "cell_type": "code",
      "execution_count": null,
      "metadata": {
        "id": "LQrjlMEevlHY"
      },
      "outputs": [],
      "source": [
        "train.replace({'Vehicle_Damage': {'Yes': 1, 'No': 0}}, inplace=True)\n",
        "test.replace({'Vehicle_Damage': {'Yes': 1, 'No': 0}}, inplace=True)"
      ]
    },
    {
      "cell_type": "code",
      "execution_count": null,
      "metadata": {
        "id": "e0XwMk1zvlHY"
      },
      "outputs": [],
      "source": [
        "train.replace({'Vehicle_Age': {'< 1 Year': 0, '1-2 Year': 1, '> 2 Years': 2}}, inplace=True)\n",
        "test.replace({'Vehicle_Age': {'< 1 Year': 0, '1-2 Year': 1, '> 2 Years': 2}}, inplace=True)"
      ]
    },
    {
      "cell_type": "markdown",
      "metadata": {
        "id": "6UfNoH8EvlHY"
      },
      "source": [
        "### OneHot Encoding"
      ]
    },
    {
      "cell_type": "code",
      "execution_count": null,
      "metadata": {
        "id": "mWBI2GBEvlHY"
      },
      "outputs": [],
      "source": [
        "train_ohe = pd.get_dummies(train, columns = ['Region_Code', 'Policy_Sales_Channel'])"
      ]
    },
    {
      "cell_type": "code",
      "execution_count": null,
      "metadata": {
        "id": "yYlJnL-VvlHY"
      },
      "outputs": [],
      "source": [
        "train_ohe.drop(['Region_Code_0.0', 'Policy_Sales_Channel_1.0'], axis=1, inplace=True)"
      ]
    },
    {
      "cell_type": "code",
      "execution_count": null,
      "metadata": {
        "id": "fwOwC3hlCY5b"
      },
      "outputs": [],
      "source": [
        "test_ohe = pd.get_dummies(test, columns = ['Region_Code', 'Policy_Sales_Channel'])\n",
        "test_ohe.drop(['Region_Code_0.0', 'Policy_Sales_Channel_1.0'], axis=1, inplace=True)"
      ]
    },
    {
      "cell_type": "code",
      "execution_count": null,
      "metadata": {
        "id": "-Yb_tCgoJkmS"
      },
      "outputs": [],
      "source": [
        "train_ohe['Policy_Sales_Channel_141.0'] = 0\n",
        "train_ohe['Policy_Sales_Channel_142.0'] = 0"
      ]
    },
    {
      "cell_type": "markdown",
      "metadata": {
        "id": "vstwc6RsvlHZ"
      },
      "source": [
        "### Train-Test Split"
      ]
    },
    {
      "cell_type": "code",
      "execution_count": null,
      "metadata": {
        "id": "Zqb3P_pTvlHZ"
      },
      "outputs": [],
      "source": [
        "X=train_ohe.drop(['id', 'Response'], axis=1)\n",
        "Y=train['Response']"
      ]
    },
    {
      "cell_type": "code",
      "execution_count": null,
      "metadata": {
        "colab": {
          "base_uri": "https://localhost:8080/",
          "height": 488
        },
        "id": "LeW6EUAuvlHZ",
        "outputId": "6e27f6bd-b834-4198-ef58-aad23020fd0b"
      },
      "outputs": [
        {
          "data": {
            "text/html": [
              "\n",
              "  <div id=\"df-cd313efc-2ac2-4d5c-8f42-2c2a15665c83\">\n",
              "    <div class=\"colab-df-container\">\n",
              "      <div>\n",
              "<style scoped>\n",
              "    .dataframe tbody tr th:only-of-type {\n",
              "        vertical-align: middle;\n",
              "    }\n",
              "\n",
              "    .dataframe tbody tr th {\n",
              "        vertical-align: top;\n",
              "    }\n",
              "\n",
              "    .dataframe thead th {\n",
              "        text-align: right;\n",
              "    }\n",
              "</style>\n",
              "<table border=\"1\" class=\"dataframe\">\n",
              "  <thead>\n",
              "    <tr style=\"text-align: right;\">\n",
              "      <th></th>\n",
              "      <th>Gender</th>\n",
              "      <th>Age</th>\n",
              "      <th>Driving_License</th>\n",
              "      <th>Previously_Insured</th>\n",
              "      <th>Vehicle_Age</th>\n",
              "      <th>Vehicle_Damage</th>\n",
              "      <th>Annual_Premium</th>\n",
              "      <th>Vintage</th>\n",
              "      <th>Region_Code_1.0</th>\n",
              "      <th>Region_Code_2.0</th>\n",
              "      <th>...</th>\n",
              "      <th>Policy_Sales_Channel_154.0</th>\n",
              "      <th>Policy_Sales_Channel_155.0</th>\n",
              "      <th>Policy_Sales_Channel_156.0</th>\n",
              "      <th>Policy_Sales_Channel_157.0</th>\n",
              "      <th>Policy_Sales_Channel_158.0</th>\n",
              "      <th>Policy_Sales_Channel_159.0</th>\n",
              "      <th>Policy_Sales_Channel_160.0</th>\n",
              "      <th>Policy_Sales_Channel_163.0</th>\n",
              "      <th>Policy_Sales_Channel_141.0</th>\n",
              "      <th>Policy_Sales_Channel_142.0</th>\n",
              "    </tr>\n",
              "  </thead>\n",
              "  <tbody>\n",
              "    <tr>\n",
              "      <th>0</th>\n",
              "      <td>1</td>\n",
              "      <td>44</td>\n",
              "      <td>1</td>\n",
              "      <td>0</td>\n",
              "      <td>2</td>\n",
              "      <td>1</td>\n",
              "      <td>40454.0</td>\n",
              "      <td>217</td>\n",
              "      <td>0</td>\n",
              "      <td>0</td>\n",
              "      <td>...</td>\n",
              "      <td>0</td>\n",
              "      <td>0</td>\n",
              "      <td>0</td>\n",
              "      <td>0</td>\n",
              "      <td>0</td>\n",
              "      <td>0</td>\n",
              "      <td>0</td>\n",
              "      <td>0</td>\n",
              "      <td>0</td>\n",
              "      <td>0</td>\n",
              "    </tr>\n",
              "    <tr>\n",
              "      <th>1</th>\n",
              "      <td>1</td>\n",
              "      <td>76</td>\n",
              "      <td>1</td>\n",
              "      <td>0</td>\n",
              "      <td>1</td>\n",
              "      <td>0</td>\n",
              "      <td>33536.0</td>\n",
              "      <td>183</td>\n",
              "      <td>0</td>\n",
              "      <td>0</td>\n",
              "      <td>...</td>\n",
              "      <td>0</td>\n",
              "      <td>0</td>\n",
              "      <td>0</td>\n",
              "      <td>0</td>\n",
              "      <td>0</td>\n",
              "      <td>0</td>\n",
              "      <td>0</td>\n",
              "      <td>0</td>\n",
              "      <td>0</td>\n",
              "      <td>0</td>\n",
              "    </tr>\n",
              "    <tr>\n",
              "      <th>2</th>\n",
              "      <td>1</td>\n",
              "      <td>47</td>\n",
              "      <td>1</td>\n",
              "      <td>0</td>\n",
              "      <td>2</td>\n",
              "      <td>1</td>\n",
              "      <td>38294.0</td>\n",
              "      <td>27</td>\n",
              "      <td>0</td>\n",
              "      <td>0</td>\n",
              "      <td>...</td>\n",
              "      <td>0</td>\n",
              "      <td>0</td>\n",
              "      <td>0</td>\n",
              "      <td>0</td>\n",
              "      <td>0</td>\n",
              "      <td>0</td>\n",
              "      <td>0</td>\n",
              "      <td>0</td>\n",
              "      <td>0</td>\n",
              "      <td>0</td>\n",
              "    </tr>\n",
              "    <tr>\n",
              "      <th>3</th>\n",
              "      <td>1</td>\n",
              "      <td>21</td>\n",
              "      <td>1</td>\n",
              "      <td>1</td>\n",
              "      <td>0</td>\n",
              "      <td>0</td>\n",
              "      <td>28619.0</td>\n",
              "      <td>203</td>\n",
              "      <td>0</td>\n",
              "      <td>0</td>\n",
              "      <td>...</td>\n",
              "      <td>0</td>\n",
              "      <td>0</td>\n",
              "      <td>0</td>\n",
              "      <td>0</td>\n",
              "      <td>0</td>\n",
              "      <td>0</td>\n",
              "      <td>0</td>\n",
              "      <td>0</td>\n",
              "      <td>0</td>\n",
              "      <td>0</td>\n",
              "    </tr>\n",
              "    <tr>\n",
              "      <th>4</th>\n",
              "      <td>0</td>\n",
              "      <td>29</td>\n",
              "      <td>1</td>\n",
              "      <td>1</td>\n",
              "      <td>0</td>\n",
              "      <td>0</td>\n",
              "      <td>27496.0</td>\n",
              "      <td>39</td>\n",
              "      <td>0</td>\n",
              "      <td>0</td>\n",
              "      <td>...</td>\n",
              "      <td>0</td>\n",
              "      <td>0</td>\n",
              "      <td>0</td>\n",
              "      <td>0</td>\n",
              "      <td>0</td>\n",
              "      <td>0</td>\n",
              "      <td>0</td>\n",
              "      <td>0</td>\n",
              "      <td>0</td>\n",
              "      <td>0</td>\n",
              "    </tr>\n",
              "    <tr>\n",
              "      <th>...</th>\n",
              "      <td>...</td>\n",
              "      <td>...</td>\n",
              "      <td>...</td>\n",
              "      <td>...</td>\n",
              "      <td>...</td>\n",
              "      <td>...</td>\n",
              "      <td>...</td>\n",
              "      <td>...</td>\n",
              "      <td>...</td>\n",
              "      <td>...</td>\n",
              "      <td>...</td>\n",
              "      <td>...</td>\n",
              "      <td>...</td>\n",
              "      <td>...</td>\n",
              "      <td>...</td>\n",
              "      <td>...</td>\n",
              "      <td>...</td>\n",
              "      <td>...</td>\n",
              "      <td>...</td>\n",
              "      <td>...</td>\n",
              "      <td>...</td>\n",
              "    </tr>\n",
              "    <tr>\n",
              "      <th>381104</th>\n",
              "      <td>1</td>\n",
              "      <td>74</td>\n",
              "      <td>1</td>\n",
              "      <td>1</td>\n",
              "      <td>1</td>\n",
              "      <td>0</td>\n",
              "      <td>30170.0</td>\n",
              "      <td>88</td>\n",
              "      <td>0</td>\n",
              "      <td>0</td>\n",
              "      <td>...</td>\n",
              "      <td>0</td>\n",
              "      <td>0</td>\n",
              "      <td>0</td>\n",
              "      <td>0</td>\n",
              "      <td>0</td>\n",
              "      <td>0</td>\n",
              "      <td>0</td>\n",
              "      <td>0</td>\n",
              "      <td>0</td>\n",
              "      <td>0</td>\n",
              "    </tr>\n",
              "    <tr>\n",
              "      <th>381105</th>\n",
              "      <td>1</td>\n",
              "      <td>30</td>\n",
              "      <td>1</td>\n",
              "      <td>1</td>\n",
              "      <td>0</td>\n",
              "      <td>0</td>\n",
              "      <td>40016.0</td>\n",
              "      <td>131</td>\n",
              "      <td>0</td>\n",
              "      <td>0</td>\n",
              "      <td>...</td>\n",
              "      <td>0</td>\n",
              "      <td>0</td>\n",
              "      <td>0</td>\n",
              "      <td>0</td>\n",
              "      <td>0</td>\n",
              "      <td>0</td>\n",
              "      <td>0</td>\n",
              "      <td>0</td>\n",
              "      <td>0</td>\n",
              "      <td>0</td>\n",
              "    </tr>\n",
              "    <tr>\n",
              "      <th>381106</th>\n",
              "      <td>1</td>\n",
              "      <td>21</td>\n",
              "      <td>1</td>\n",
              "      <td>1</td>\n",
              "      <td>0</td>\n",
              "      <td>0</td>\n",
              "      <td>35118.0</td>\n",
              "      <td>161</td>\n",
              "      <td>0</td>\n",
              "      <td>0</td>\n",
              "      <td>...</td>\n",
              "      <td>0</td>\n",
              "      <td>0</td>\n",
              "      <td>0</td>\n",
              "      <td>0</td>\n",
              "      <td>0</td>\n",
              "      <td>0</td>\n",
              "      <td>1</td>\n",
              "      <td>0</td>\n",
              "      <td>0</td>\n",
              "      <td>0</td>\n",
              "    </tr>\n",
              "    <tr>\n",
              "      <th>381107</th>\n",
              "      <td>0</td>\n",
              "      <td>68</td>\n",
              "      <td>1</td>\n",
              "      <td>0</td>\n",
              "      <td>2</td>\n",
              "      <td>1</td>\n",
              "      <td>44617.0</td>\n",
              "      <td>74</td>\n",
              "      <td>0</td>\n",
              "      <td>0</td>\n",
              "      <td>...</td>\n",
              "      <td>0</td>\n",
              "      <td>0</td>\n",
              "      <td>0</td>\n",
              "      <td>0</td>\n",
              "      <td>0</td>\n",
              "      <td>0</td>\n",
              "      <td>0</td>\n",
              "      <td>0</td>\n",
              "      <td>0</td>\n",
              "      <td>0</td>\n",
              "    </tr>\n",
              "    <tr>\n",
              "      <th>381108</th>\n",
              "      <td>1</td>\n",
              "      <td>46</td>\n",
              "      <td>1</td>\n",
              "      <td>0</td>\n",
              "      <td>1</td>\n",
              "      <td>0</td>\n",
              "      <td>41777.0</td>\n",
              "      <td>237</td>\n",
              "      <td>0</td>\n",
              "      <td>0</td>\n",
              "      <td>...</td>\n",
              "      <td>0</td>\n",
              "      <td>0</td>\n",
              "      <td>0</td>\n",
              "      <td>0</td>\n",
              "      <td>0</td>\n",
              "      <td>0</td>\n",
              "      <td>0</td>\n",
              "      <td>0</td>\n",
              "      <td>0</td>\n",
              "      <td>0</td>\n",
              "    </tr>\n",
              "  </tbody>\n",
              "</table>\n",
              "<p>381109 rows × 216 columns</p>\n",
              "</div>\n",
              "      <button class=\"colab-df-convert\" onclick=\"convertToInteractive('df-cd313efc-2ac2-4d5c-8f42-2c2a15665c83')\"\n",
              "              title=\"Convert this dataframe to an interactive table.\"\n",
              "              style=\"display:none;\">\n",
              "        \n",
              "  <svg xmlns=\"http://www.w3.org/2000/svg\" height=\"24px\"viewBox=\"0 0 24 24\"\n",
              "       width=\"24px\">\n",
              "    <path d=\"M0 0h24v24H0V0z\" fill=\"none\"/>\n",
              "    <path d=\"M18.56 5.44l.94 2.06.94-2.06 2.06-.94-2.06-.94-.94-2.06-.94 2.06-2.06.94zm-11 1L8.5 8.5l.94-2.06 2.06-.94-2.06-.94L8.5 2.5l-.94 2.06-2.06.94zm10 10l.94 2.06.94-2.06 2.06-.94-2.06-.94-.94-2.06-.94 2.06-2.06.94z\"/><path d=\"M17.41 7.96l-1.37-1.37c-.4-.4-.92-.59-1.43-.59-.52 0-1.04.2-1.43.59L10.3 9.45l-7.72 7.72c-.78.78-.78 2.05 0 2.83L4 21.41c.39.39.9.59 1.41.59.51 0 1.02-.2 1.41-.59l7.78-7.78 2.81-2.81c.8-.78.8-2.07 0-2.86zM5.41 20L4 18.59l7.72-7.72 1.47 1.35L5.41 20z\"/>\n",
              "  </svg>\n",
              "      </button>\n",
              "      \n",
              "  <style>\n",
              "    .colab-df-container {\n",
              "      display:flex;\n",
              "      flex-wrap:wrap;\n",
              "      gap: 12px;\n",
              "    }\n",
              "\n",
              "    .colab-df-convert {\n",
              "      background-color: #E8F0FE;\n",
              "      border: none;\n",
              "      border-radius: 50%;\n",
              "      cursor: pointer;\n",
              "      display: none;\n",
              "      fill: #1967D2;\n",
              "      height: 32px;\n",
              "      padding: 0 0 0 0;\n",
              "      width: 32px;\n",
              "    }\n",
              "\n",
              "    .colab-df-convert:hover {\n",
              "      background-color: #E2EBFA;\n",
              "      box-shadow: 0px 1px 2px rgba(60, 64, 67, 0.3), 0px 1px 3px 1px rgba(60, 64, 67, 0.15);\n",
              "      fill: #174EA6;\n",
              "    }\n",
              "\n",
              "    [theme=dark] .colab-df-convert {\n",
              "      background-color: #3B4455;\n",
              "      fill: #D2E3FC;\n",
              "    }\n",
              "\n",
              "    [theme=dark] .colab-df-convert:hover {\n",
              "      background-color: #434B5C;\n",
              "      box-shadow: 0px 1px 3px 1px rgba(0, 0, 0, 0.15);\n",
              "      filter: drop-shadow(0px 1px 2px rgba(0, 0, 0, 0.3));\n",
              "      fill: #FFFFFF;\n",
              "    }\n",
              "  </style>\n",
              "\n",
              "      <script>\n",
              "        const buttonEl =\n",
              "          document.querySelector('#df-cd313efc-2ac2-4d5c-8f42-2c2a15665c83 button.colab-df-convert');\n",
              "        buttonEl.style.display =\n",
              "          google.colab.kernel.accessAllowed ? 'block' : 'none';\n",
              "\n",
              "        async function convertToInteractive(key) {\n",
              "          const element = document.querySelector('#df-cd313efc-2ac2-4d5c-8f42-2c2a15665c83');\n",
              "          const dataTable =\n",
              "            await google.colab.kernel.invokeFunction('convertToInteractive',\n",
              "                                                     [key], {});\n",
              "          if (!dataTable) return;\n",
              "\n",
              "          const docLinkHtml = 'Like what you see? Visit the ' +\n",
              "            '<a target=\"_blank\" href=https://colab.research.google.com/notebooks/data_table.ipynb>data table notebook</a>'\n",
              "            + ' to learn more about interactive tables.';\n",
              "          element.innerHTML = '';\n",
              "          dataTable['output_type'] = 'display_data';\n",
              "          await google.colab.output.renderOutput(dataTable, element);\n",
              "          const docLink = document.createElement('div');\n",
              "          docLink.innerHTML = docLinkHtml;\n",
              "          element.appendChild(docLink);\n",
              "        }\n",
              "      </script>\n",
              "    </div>\n",
              "  </div>\n",
              "  "
            ],
            "text/plain": [
              "        Gender  Age  Driving_License  Previously_Insured  Vehicle_Age  \\\n",
              "0            1   44                1                   0            2   \n",
              "1            1   76                1                   0            1   \n",
              "2            1   47                1                   0            2   \n",
              "3            1   21                1                   1            0   \n",
              "4            0   29                1                   1            0   \n",
              "...        ...  ...              ...                 ...          ...   \n",
              "381104       1   74                1                   1            1   \n",
              "381105       1   30                1                   1            0   \n",
              "381106       1   21                1                   1            0   \n",
              "381107       0   68                1                   0            2   \n",
              "381108       1   46                1                   0            1   \n",
              "\n",
              "        Vehicle_Damage  Annual_Premium  Vintage  Region_Code_1.0  \\\n",
              "0                    1         40454.0      217                0   \n",
              "1                    0         33536.0      183                0   \n",
              "2                    1         38294.0       27                0   \n",
              "3                    0         28619.0      203                0   \n",
              "4                    0         27496.0       39                0   \n",
              "...                ...             ...      ...              ...   \n",
              "381104               0         30170.0       88                0   \n",
              "381105               0         40016.0      131                0   \n",
              "381106               0         35118.0      161                0   \n",
              "381107               1         44617.0       74                0   \n",
              "381108               0         41777.0      237                0   \n",
              "\n",
              "        Region_Code_2.0  ...  Policy_Sales_Channel_154.0  \\\n",
              "0                     0  ...                           0   \n",
              "1                     0  ...                           0   \n",
              "2                     0  ...                           0   \n",
              "3                     0  ...                           0   \n",
              "4                     0  ...                           0   \n",
              "...                 ...  ...                         ...   \n",
              "381104                0  ...                           0   \n",
              "381105                0  ...                           0   \n",
              "381106                0  ...                           0   \n",
              "381107                0  ...                           0   \n",
              "381108                0  ...                           0   \n",
              "\n",
              "        Policy_Sales_Channel_155.0  Policy_Sales_Channel_156.0  \\\n",
              "0                                0                           0   \n",
              "1                                0                           0   \n",
              "2                                0                           0   \n",
              "3                                0                           0   \n",
              "4                                0                           0   \n",
              "...                            ...                         ...   \n",
              "381104                           0                           0   \n",
              "381105                           0                           0   \n",
              "381106                           0                           0   \n",
              "381107                           0                           0   \n",
              "381108                           0                           0   \n",
              "\n",
              "        Policy_Sales_Channel_157.0  Policy_Sales_Channel_158.0  \\\n",
              "0                                0                           0   \n",
              "1                                0                           0   \n",
              "2                                0                           0   \n",
              "3                                0                           0   \n",
              "4                                0                           0   \n",
              "...                            ...                         ...   \n",
              "381104                           0                           0   \n",
              "381105                           0                           0   \n",
              "381106                           0                           0   \n",
              "381107                           0                           0   \n",
              "381108                           0                           0   \n",
              "\n",
              "        Policy_Sales_Channel_159.0  Policy_Sales_Channel_160.0  \\\n",
              "0                                0                           0   \n",
              "1                                0                           0   \n",
              "2                                0                           0   \n",
              "3                                0                           0   \n",
              "4                                0                           0   \n",
              "...                            ...                         ...   \n",
              "381104                           0                           0   \n",
              "381105                           0                           0   \n",
              "381106                           0                           1   \n",
              "381107                           0                           0   \n",
              "381108                           0                           0   \n",
              "\n",
              "        Policy_Sales_Channel_163.0  Policy_Sales_Channel_141.0  \\\n",
              "0                                0                           0   \n",
              "1                                0                           0   \n",
              "2                                0                           0   \n",
              "3                                0                           0   \n",
              "4                                0                           0   \n",
              "...                            ...                         ...   \n",
              "381104                           0                           0   \n",
              "381105                           0                           0   \n",
              "381106                           0                           0   \n",
              "381107                           0                           0   \n",
              "381108                           0                           0   \n",
              "\n",
              "        Policy_Sales_Channel_142.0  \n",
              "0                                0  \n",
              "1                                0  \n",
              "2                                0  \n",
              "3                                0  \n",
              "4                                0  \n",
              "...                            ...  \n",
              "381104                           0  \n",
              "381105                           0  \n",
              "381106                           0  \n",
              "381107                           0  \n",
              "381108                           0  \n",
              "\n",
              "[381109 rows x 216 columns]"
            ]
          },
          "execution_count": 36,
          "metadata": {},
          "output_type": "execute_result"
        }
      ],
      "source": [
        "X"
      ]
    },
    {
      "cell_type": "code",
      "execution_count": null,
      "metadata": {
        "colab": {
          "base_uri": "https://localhost:8080/"
        },
        "id": "QEpvWfrwvlHZ",
        "outputId": "ea69189a-8202-4b34-c06c-6c2d3429fc4e"
      },
      "outputs": [
        {
          "data": {
            "text/plain": [
              "0         1\n",
              "1         0\n",
              "2         1\n",
              "3         0\n",
              "4         0\n",
              "         ..\n",
              "381104    0\n",
              "381105    0\n",
              "381106    0\n",
              "381107    0\n",
              "381108    0\n",
              "Name: Response, Length: 381109, dtype: int64"
            ]
          },
          "execution_count": 37,
          "metadata": {},
          "output_type": "execute_result"
        }
      ],
      "source": [
        "Y"
      ]
    },
    {
      "cell_type": "code",
      "execution_count": null,
      "metadata": {
        "id": "PfaNUS6vvlHZ"
      },
      "outputs": [],
      "source": [
        "X_train, X_test, Y_train, Y_test = train_test_split(X, Y, train_size=0.7, random_state=16, stratify=Y)"
      ]
    },
    {
      "cell_type": "markdown",
      "metadata": {
        "id": "n6O-QjMsvlHZ"
      },
      "source": [
        "## Scaling"
      ]
    },
    {
      "cell_type": "code",
      "execution_count": null,
      "metadata": {
        "id": "cKXExRfJvlHZ"
      },
      "outputs": [],
      "source": [
        "std_scaler = StandardScaler()"
      ]
    },
    {
      "cell_type": "code",
      "execution_count": null,
      "metadata": {
        "id": "N3PmyOgfvlHZ"
      },
      "outputs": [],
      "source": [
        "std_scaler.fit(X_train)\n",
        "X_train_scaled = std_scaler.transform(X_train)\n",
        "X_test_scaled = std_scaler.transform(X_test)"
      ]
    },
    {
      "cell_type": "code",
      "execution_count": null,
      "metadata": {
        "colab": {
          "base_uri": "https://localhost:8080/"
        },
        "id": "6VNG3m0FvlHa",
        "outputId": "244d2806-7b48-4647-a6c5-aa9c940f58ec"
      },
      "outputs": [
        {
          "data": {
            "text/plain": [
              "array([[ 0.92279833, -1.02032737,  0.04691945, ..., -0.08697684,\n",
              "         0.        ,  0.        ],\n",
              "       [ 0.92279833, -0.76246667,  0.04691945, ..., -0.08697684,\n",
              "         0.        ,  0.        ],\n",
              "       [-1.0836604 , -0.89139702,  0.04691945, ..., -0.08697684,\n",
              "         0.        ,  0.        ],\n",
              "       ...,\n",
              "       [ 0.92279833, -0.63353632,  0.04691945, ..., -0.08697684,\n",
              "         0.        ,  0.        ],\n",
              "       [ 0.92279833,  2.33186178,  0.04691945, ..., -0.08697684,\n",
              "         0.        ,  0.        ],\n",
              "       [ 0.92279833, -0.82693184,  0.04691945, ..., -0.08697684,\n",
              "         0.        ,  0.        ]])"
            ]
          },
          "execution_count": 41,
          "metadata": {},
          "output_type": "execute_result"
        }
      ],
      "source": [
        "X_train_scaled"
      ]
    },
    {
      "cell_type": "markdown",
      "metadata": {
        "id": "9u42uAXcvlHa"
      },
      "source": [
        "## Oversampling - SMOTE"
      ]
    },
    {
      "cell_type": "code",
      "execution_count": null,
      "metadata": {
        "colab": {
          "base_uri": "https://localhost:8080/"
        },
        "id": "wPbTGyTfvlHa",
        "outputId": "6e0c97f0-745a-48c9-eb51-efe73b2bba51"
      },
      "outputs": [
        {
          "name": "stdout",
          "output_type": "stream",
          "text": [
            "Before OverSampling, counts of label '1': 32697\n",
            "Before OverSampling, counts of label '0': 234079 \n",
            "\n"
          ]
        }
      ],
      "source": [
        "print(\"Before OverSampling, counts of label '1': {}\".format(sum(Y_train == 1)))\n",
        "print(\"Before OverSampling, counts of label '0': {} \\n\".format(sum(Y_train == 0)))"
      ]
    },
    {
      "cell_type": "code",
      "execution_count": null,
      "metadata": {
        "id": "eGpuyf5bvlHa"
      },
      "outputs": [],
      "source": [
        "sm = SMOTE(random_state = 2)\n",
        "X_train_os, Y_train_os = sm.fit_resample(X_train, Y_train)\n",
        "\n",
        "X_train_sc_os, Y_train_sc_os = sm.fit_resample(X_train_scaled, Y_train)"
      ]
    },
    {
      "cell_type": "code",
      "execution_count": null,
      "metadata": {
        "colab": {
          "base_uri": "https://localhost:8080/"
        },
        "id": "Wi6IdvR7vlHa",
        "outputId": "75ac1ce6-7e75-44ef-ffeb-0184571255b8"
      },
      "outputs": [
        {
          "name": "stdout",
          "output_type": "stream",
          "text": [
            "After OverSampling, counts of label '1': 234079\n",
            "After OverSampling, counts of label '0': 234079 \n",
            "\n"
          ]
        }
      ],
      "source": [
        "print(\"After OverSampling, counts of label '1': {}\".format(sum(Y_train_sc_os == 1)))\n",
        "print(\"After OverSampling, counts of label '0': {} \\n\".format(sum(Y_train_sc_os == 0)))"
      ]
    },
    {
      "cell_type": "code",
      "execution_count": null,
      "metadata": {
        "id": "SjGQBVicvlHa"
      },
      "outputs": [],
      "source": [
        "# X_train_os"
      ]
    },
    {
      "cell_type": "markdown",
      "metadata": {
        "id": "sD7Xt6u1vlHb"
      },
      "source": [
        "## UnderSampling - NearMiss"
      ]
    },
    {
      "cell_type": "code",
      "execution_count": null,
      "metadata": {
        "colab": {
          "base_uri": "https://localhost:8080/"
        },
        "id": "yHCqU3CLvlHb",
        "outputId": "bc8245c0-700b-4870-a118-19dc08aab526"
      },
      "outputs": [
        {
          "name": "stdout",
          "output_type": "stream",
          "text": [
            "Before UnderSampling, counts of label '1': 32697\n",
            "Before UnderSampling, counts of label '0': 234079 \n",
            "\n"
          ]
        }
      ],
      "source": [
        "print(\"Before UnderSampling, counts of label '1': {}\".format(sum(Y_train == 1)))\n",
        "print(\"Before UnderSampling, counts of label '0': {} \\n\".format(sum(Y_train == 0)))"
      ]
    },
    {
      "cell_type": "code",
      "execution_count": null,
      "metadata": {
        "colab": {
          "base_uri": "https://localhost:8080/",
          "height": 380
        },
        "id": "0KRE4TbcvlHb",
        "outputId": "7b946cab-413b-49a1-a4eb-c090bf8152f3"
      },
      "outputs": [
        {
          "ename": "KeyboardInterrupt",
          "evalue": "ignored",
          "output_type": "error",
          "traceback": [
            "\u001b[0;31m---------------------------------------------------------------------------\u001b[0m",
            "\u001b[0;31mKeyboardInterrupt\u001b[0m                         Traceback (most recent call last)",
            "\u001b[0;32m<ipython-input-47-8f4e7659e826>\u001b[0m in \u001b[0;36m<module>\u001b[0;34m\u001b[0m\n\u001b[1;32m      1\u001b[0m \u001b[0mnm\u001b[0m \u001b[0;34m=\u001b[0m \u001b[0mNearMiss\u001b[0m\u001b[0;34m(\u001b[0m\u001b[0;34m)\u001b[0m\u001b[0;34m\u001b[0m\u001b[0;34m\u001b[0m\u001b[0m\n\u001b[0;32m----> 2\u001b[0;31m \u001b[0mX_train_us\u001b[0m\u001b[0;34m,\u001b[0m \u001b[0mY_train_us\u001b[0m \u001b[0;34m=\u001b[0m \u001b[0mnm\u001b[0m\u001b[0;34m.\u001b[0m\u001b[0mfit_resample\u001b[0m\u001b[0;34m(\u001b[0m\u001b[0mX_train\u001b[0m\u001b[0;34m,\u001b[0m \u001b[0mY_train\u001b[0m\u001b[0;34m)\u001b[0m\u001b[0;34m\u001b[0m\u001b[0;34m\u001b[0m\u001b[0m\n\u001b[0m\u001b[1;32m      3\u001b[0m \u001b[0mX_train_sc_us\u001b[0m\u001b[0;34m,\u001b[0m \u001b[0mY_train_sc_us\u001b[0m \u001b[0;34m=\u001b[0m \u001b[0mnm\u001b[0m\u001b[0;34m.\u001b[0m\u001b[0mfit_resample\u001b[0m\u001b[0;34m(\u001b[0m\u001b[0mX_train_scaled\u001b[0m\u001b[0;34m,\u001b[0m \u001b[0mY_train\u001b[0m\u001b[0;34m)\u001b[0m\u001b[0;34m\u001b[0m\u001b[0;34m\u001b[0m\u001b[0m\n",
            "\u001b[0;32m/usr/local/lib/python3.8/dist-packages/imblearn/base.py\u001b[0m in \u001b[0;36mfit_resample\u001b[0;34m(self, X, y)\u001b[0m\n\u001b[1;32m     81\u001b[0m         )\n\u001b[1;32m     82\u001b[0m \u001b[0;34m\u001b[0m\u001b[0m\n\u001b[0;32m---> 83\u001b[0;31m         \u001b[0moutput\u001b[0m \u001b[0;34m=\u001b[0m \u001b[0mself\u001b[0m\u001b[0;34m.\u001b[0m\u001b[0m_fit_resample\u001b[0m\u001b[0;34m(\u001b[0m\u001b[0mX\u001b[0m\u001b[0;34m,\u001b[0m \u001b[0my\u001b[0m\u001b[0;34m)\u001b[0m\u001b[0;34m\u001b[0m\u001b[0;34m\u001b[0m\u001b[0m\n\u001b[0m\u001b[1;32m     84\u001b[0m \u001b[0;34m\u001b[0m\u001b[0m\n\u001b[1;32m     85\u001b[0m         y_ = (\n",
            "\u001b[0;32m/usr/local/lib/python3.8/dist-packages/imblearn/under_sampling/_prototype_selection/_nearmiss.py\u001b[0m in \u001b[0;36m_fit_resample\u001b[0;34m(self, X, y)\u001b[0m\n\u001b[1;32m    219\u001b[0m \u001b[0;34m\u001b[0m\u001b[0m\n\u001b[1;32m    220\u001b[0m                 \u001b[0;32mif\u001b[0m \u001b[0mself\u001b[0m\u001b[0;34m.\u001b[0m\u001b[0mversion\u001b[0m \u001b[0;34m==\u001b[0m \u001b[0;36m1\u001b[0m\u001b[0;34m:\u001b[0m\u001b[0;34m\u001b[0m\u001b[0;34m\u001b[0m\u001b[0m\n\u001b[0;32m--> 221\u001b[0;31m                     dist_vec, idx_vec = self.nn_.kneighbors(\n\u001b[0m\u001b[1;32m    222\u001b[0m                         \u001b[0mX_class\u001b[0m\u001b[0;34m,\u001b[0m \u001b[0mn_neighbors\u001b[0m\u001b[0;34m=\u001b[0m\u001b[0mself\u001b[0m\u001b[0;34m.\u001b[0m\u001b[0mnn_\u001b[0m\u001b[0;34m.\u001b[0m\u001b[0mn_neighbors\u001b[0m\u001b[0;34m\u001b[0m\u001b[0;34m\u001b[0m\u001b[0m\n\u001b[1;32m    223\u001b[0m                     )\n",
            "\u001b[0;32m/usr/local/lib/python3.8/dist-packages/sklearn/neighbors/_base.py\u001b[0m in \u001b[0;36mkneighbors\u001b[0;34m(self, X, n_neighbors, return_distance)\u001b[0m\n\u001b[1;32m    750\u001b[0m                 \u001b[0mkwds\u001b[0m \u001b[0;34m=\u001b[0m \u001b[0mself\u001b[0m\u001b[0;34m.\u001b[0m\u001b[0meffective_metric_params_\u001b[0m\u001b[0;34m\u001b[0m\u001b[0;34m\u001b[0m\u001b[0m\n\u001b[1;32m    751\u001b[0m \u001b[0;34m\u001b[0m\u001b[0m\n\u001b[0;32m--> 752\u001b[0;31m             chunked_results = list(\n\u001b[0m\u001b[1;32m    753\u001b[0m                 pairwise_distances_chunked(\n\u001b[1;32m    754\u001b[0m                     \u001b[0mX\u001b[0m\u001b[0;34m,\u001b[0m\u001b[0;34m\u001b[0m\u001b[0;34m\u001b[0m\u001b[0m\n",
            "\u001b[0;32m/usr/local/lib/python3.8/dist-packages/sklearn/metrics/pairwise.py\u001b[0m in \u001b[0;36mpairwise_distances_chunked\u001b[0;34m(X, Y, reduce_func, metric, n_jobs, working_memory, **kwds)\u001b[0m\n\u001b[1;32m   1724\u001b[0m         \u001b[0;32mif\u001b[0m \u001b[0mreduce_func\u001b[0m \u001b[0;32mis\u001b[0m \u001b[0;32mnot\u001b[0m \u001b[0;32mNone\u001b[0m\u001b[0;34m:\u001b[0m\u001b[0;34m\u001b[0m\u001b[0;34m\u001b[0m\u001b[0m\n\u001b[1;32m   1725\u001b[0m             \u001b[0mchunk_size\u001b[0m \u001b[0;34m=\u001b[0m \u001b[0mD_chunk\u001b[0m\u001b[0;34m.\u001b[0m\u001b[0mshape\u001b[0m\u001b[0;34m[\u001b[0m\u001b[0;36m0\u001b[0m\u001b[0;34m]\u001b[0m\u001b[0;34m\u001b[0m\u001b[0;34m\u001b[0m\u001b[0m\n\u001b[0;32m-> 1726\u001b[0;31m             \u001b[0mD_chunk\u001b[0m \u001b[0;34m=\u001b[0m \u001b[0mreduce_func\u001b[0m\u001b[0;34m(\u001b[0m\u001b[0mD_chunk\u001b[0m\u001b[0;34m,\u001b[0m \u001b[0msl\u001b[0m\u001b[0;34m.\u001b[0m\u001b[0mstart\u001b[0m\u001b[0;34m)\u001b[0m\u001b[0;34m\u001b[0m\u001b[0;34m\u001b[0m\u001b[0m\n\u001b[0m\u001b[1;32m   1727\u001b[0m             \u001b[0m_check_chunk_size\u001b[0m\u001b[0;34m(\u001b[0m\u001b[0mD_chunk\u001b[0m\u001b[0;34m,\u001b[0m \u001b[0mchunk_size\u001b[0m\u001b[0;34m)\u001b[0m\u001b[0;34m\u001b[0m\u001b[0;34m\u001b[0m\u001b[0m\n\u001b[1;32m   1728\u001b[0m         \u001b[0;32myield\u001b[0m \u001b[0mD_chunk\u001b[0m\u001b[0;34m\u001b[0m\u001b[0;34m\u001b[0m\u001b[0m\n",
            "\u001b[0;32m/usr/local/lib/python3.8/dist-packages/sklearn/neighbors/_base.py\u001b[0m in \u001b[0;36m_kneighbors_reduce_func\u001b[0;34m(self, dist, start, n_neighbors, return_distance)\u001b[0m\n\u001b[1;32m    632\u001b[0m         \"\"\"\n\u001b[1;32m    633\u001b[0m         \u001b[0msample_range\u001b[0m \u001b[0;34m=\u001b[0m \u001b[0mnp\u001b[0m\u001b[0;34m.\u001b[0m\u001b[0marange\u001b[0m\u001b[0;34m(\u001b[0m\u001b[0mdist\u001b[0m\u001b[0;34m.\u001b[0m\u001b[0mshape\u001b[0m\u001b[0;34m[\u001b[0m\u001b[0;36m0\u001b[0m\u001b[0;34m]\u001b[0m\u001b[0;34m)\u001b[0m\u001b[0;34m[\u001b[0m\u001b[0;34m:\u001b[0m\u001b[0;34m,\u001b[0m \u001b[0;32mNone\u001b[0m\u001b[0;34m]\u001b[0m\u001b[0;34m\u001b[0m\u001b[0;34m\u001b[0m\u001b[0m\n\u001b[0;32m--> 634\u001b[0;31m         \u001b[0mneigh_ind\u001b[0m \u001b[0;34m=\u001b[0m \u001b[0mnp\u001b[0m\u001b[0;34m.\u001b[0m\u001b[0margpartition\u001b[0m\u001b[0;34m(\u001b[0m\u001b[0mdist\u001b[0m\u001b[0;34m,\u001b[0m \u001b[0mn_neighbors\u001b[0m \u001b[0;34m-\u001b[0m \u001b[0;36m1\u001b[0m\u001b[0;34m,\u001b[0m \u001b[0maxis\u001b[0m\u001b[0;34m=\u001b[0m\u001b[0;36m1\u001b[0m\u001b[0;34m)\u001b[0m\u001b[0;34m\u001b[0m\u001b[0;34m\u001b[0m\u001b[0m\n\u001b[0m\u001b[1;32m    635\u001b[0m         \u001b[0mneigh_ind\u001b[0m \u001b[0;34m=\u001b[0m \u001b[0mneigh_ind\u001b[0m\u001b[0;34m[\u001b[0m\u001b[0;34m:\u001b[0m\u001b[0;34m,\u001b[0m \u001b[0;34m:\u001b[0m\u001b[0mn_neighbors\u001b[0m\u001b[0;34m]\u001b[0m\u001b[0;34m\u001b[0m\u001b[0;34m\u001b[0m\u001b[0m\n\u001b[1;32m    636\u001b[0m         \u001b[0;31m# argpartition doesn't guarantee sorted order, so we sort again\u001b[0m\u001b[0;34m\u001b[0m\u001b[0;34m\u001b[0m\u001b[0;34m\u001b[0m\u001b[0m\n",
            "\u001b[0;32m<__array_function__ internals>\u001b[0m in \u001b[0;36margpartition\u001b[0;34m(*args, **kwargs)\u001b[0m\n",
            "\u001b[0;32m/usr/local/lib/python3.8/dist-packages/numpy/core/fromnumeric.py\u001b[0m in \u001b[0;36margpartition\u001b[0;34m(a, kth, axis, kind, order)\u001b[0m\n\u001b[1;32m    837\u001b[0m \u001b[0;34m\u001b[0m\u001b[0m\n\u001b[1;32m    838\u001b[0m     \"\"\"\n\u001b[0;32m--> 839\u001b[0;31m     \u001b[0;32mreturn\u001b[0m \u001b[0m_wrapfunc\u001b[0m\u001b[0;34m(\u001b[0m\u001b[0ma\u001b[0m\u001b[0;34m,\u001b[0m \u001b[0;34m'argpartition'\u001b[0m\u001b[0;34m,\u001b[0m \u001b[0mkth\u001b[0m\u001b[0;34m,\u001b[0m \u001b[0maxis\u001b[0m\u001b[0;34m=\u001b[0m\u001b[0maxis\u001b[0m\u001b[0;34m,\u001b[0m \u001b[0mkind\u001b[0m\u001b[0;34m=\u001b[0m\u001b[0mkind\u001b[0m\u001b[0;34m,\u001b[0m \u001b[0morder\u001b[0m\u001b[0;34m=\u001b[0m\u001b[0morder\u001b[0m\u001b[0;34m)\u001b[0m\u001b[0;34m\u001b[0m\u001b[0;34m\u001b[0m\u001b[0m\n\u001b[0m\u001b[1;32m    840\u001b[0m \u001b[0;34m\u001b[0m\u001b[0m\n\u001b[1;32m    841\u001b[0m \u001b[0;34m\u001b[0m\u001b[0m\n",
            "\u001b[0;32m/usr/local/lib/python3.8/dist-packages/numpy/core/fromnumeric.py\u001b[0m in \u001b[0;36m_wrapfunc\u001b[0;34m(obj, method, *args, **kwds)\u001b[0m\n\u001b[1;32m     55\u001b[0m \u001b[0;34m\u001b[0m\u001b[0m\n\u001b[1;32m     56\u001b[0m     \u001b[0;32mtry\u001b[0m\u001b[0;34m:\u001b[0m\u001b[0;34m\u001b[0m\u001b[0;34m\u001b[0m\u001b[0m\n\u001b[0;32m---> 57\u001b[0;31m         \u001b[0;32mreturn\u001b[0m \u001b[0mbound\u001b[0m\u001b[0;34m(\u001b[0m\u001b[0;34m*\u001b[0m\u001b[0margs\u001b[0m\u001b[0;34m,\u001b[0m \u001b[0;34m**\u001b[0m\u001b[0mkwds\u001b[0m\u001b[0;34m)\u001b[0m\u001b[0;34m\u001b[0m\u001b[0;34m\u001b[0m\u001b[0m\n\u001b[0m\u001b[1;32m     58\u001b[0m     \u001b[0;32mexcept\u001b[0m \u001b[0mTypeError\u001b[0m\u001b[0;34m:\u001b[0m\u001b[0;34m\u001b[0m\u001b[0;34m\u001b[0m\u001b[0m\n\u001b[1;32m     59\u001b[0m         \u001b[0;31m# A TypeError occurs if the object does have such a method in its\u001b[0m\u001b[0;34m\u001b[0m\u001b[0;34m\u001b[0m\u001b[0;34m\u001b[0m\u001b[0m\n",
            "\u001b[0;31mKeyboardInterrupt\u001b[0m: "
          ]
        }
      ],
      "source": [
        "nm = NearMiss()\n",
        "X_train_us, Y_train_us = nm.fit_resample(X_train, Y_train)\n",
        "X_train_sc_us, Y_train_sc_us = nm.fit_resample(X_train_scaled, Y_train)"
      ]
    },
    {
      "cell_type": "code",
      "execution_count": null,
      "metadata": {
        "id": "joabXAR9vlHb"
      },
      "outputs": [],
      "source": [
        "print(\"After UnderSampling, counts of label '1': {}\".format(sum(Y_train_us == 1)))\n",
        "print(\"After UnderSampling, counts of label '0': {} \\n\".format(sum(Y_train_us == 0)))"
      ]
    },
    {
      "cell_type": "markdown",
      "metadata": {
        "id": "aq5PKdJJ25Sn"
      },
      "source": [
        "# Model"
      ]
    },
    {
      "cell_type": "markdown",
      "metadata": {
        "id": "e0ODF-nz5cso"
      },
      "source": [
        "## Naive Bayes"
      ]
    },
    {
      "cell_type": "code",
      "execution_count": null,
      "metadata": {
        "id": "yPRLMFPu2zEF"
      },
      "outputs": [],
      "source": [
        "gaussian_model = GaussianNB()"
      ]
    },
    {
      "cell_type": "code",
      "execution_count": null,
      "metadata": {
        "colab": {
          "base_uri": "https://localhost:8080/"
        },
        "id": "yYXCMuv4vlHb",
        "outputId": "b04ceb5a-6c15-4345-9be8-5d6ee8183d88"
      },
      "outputs": [
        {
          "name": "stdout",
          "output_type": "stream",
          "text": [
            "Model\n",
            " GaussianNB()\n",
            "Training Model...\n",
            "\n",
            "Model Prediction...\n",
            "Y_train_Pred\n",
            "Confusion Matrix\n",
            " [[192227  41852]\n",
            " [ 15323  17374]]\n",
            "--------------------------------------------------------------------------------\n",
            "Accuracy Score\n",
            " 0.7856816205355804\n",
            "--------------------------------------------------------------------------------\n",
            "Classification Report\n",
            "               precision    recall  f1-score   support\n",
            "\n",
            "           0       0.93      0.82      0.87    234079\n",
            "           1       0.29      0.53      0.38     32697\n",
            "\n",
            "    accuracy                           0.79    266776\n",
            "   macro avg       0.61      0.68      0.62    266776\n",
            "weighted avg       0.85      0.79      0.81    266776\n",
            "\n",
            "Y_test_Pred\n",
            "Confusion Matrix\n",
            " [[82204 18116]\n",
            " [ 6605  7408]]\n",
            "--------------------------------------------------------------------------------\n",
            "Accuracy Score\n",
            " 0.783780710730935\n",
            "--------------------------------------------------------------------------------\n",
            "Classification Report\n",
            "               precision    recall  f1-score   support\n",
            "\n",
            "           0       0.93      0.82      0.87    100320\n",
            "           1       0.29      0.53      0.37     14013\n",
            "\n",
            "    accuracy                           0.78    114333\n",
            "   macro avg       0.61      0.67      0.62    114333\n",
            "weighted avg       0.85      0.78      0.81    114333\n",
            "\n"
          ]
        }
      ],
      "source": [
        "naive_bayes_model(gaussian_model, X_train, X_test, Y_train, Y_test)"
      ]
    },
    {
      "cell_type": "code",
      "execution_count": null,
      "metadata": {
        "colab": {
          "base_uri": "https://localhost:8080/"
        },
        "id": "ftNgtGxIKEFo",
        "outputId": "550df738-13e1-4fb5-8c11-c2cbb2890622"
      },
      "outputs": [
        {
          "name": "stdout",
          "output_type": "stream",
          "text": [
            "Model\n",
            " GaussianNB()\n",
            "Training Model...\n",
            "\n",
            "Model Prediction...\n",
            "Y_train_Pred\n",
            "Confusion Matrix\n",
            " [[115148 118931]\n",
            " [  1214 232865]]\n",
            "--------------------------------------------------------------------------------\n",
            "Accuracy Score\n",
            " 0.7433665557354568\n",
            "--------------------------------------------------------------------------------\n",
            "Classification Report\n",
            "               precision    recall  f1-score   support\n",
            "\n",
            "           0       0.99      0.49      0.66    234079\n",
            "           1       0.66      0.99      0.79    234079\n",
            "\n",
            "    accuracy                           0.74    468158\n",
            "   macro avg       0.83      0.74      0.73    468158\n",
            "weighted avg       0.83      0.74      0.73    468158\n",
            "\n",
            "Y_test_Pred\n",
            "Confusion Matrix\n",
            " [[49058 51262]\n",
            " [  185 13828]]\n",
            "--------------------------------------------------------------------------------\n",
            "Accuracy Score\n",
            " 0.5500249271863766\n",
            "--------------------------------------------------------------------------------\n",
            "Classification Report\n",
            "               precision    recall  f1-score   support\n",
            "\n",
            "           0       1.00      0.49      0.66    100320\n",
            "           1       0.21      0.99      0.35     14013\n",
            "\n",
            "    accuracy                           0.55    114333\n",
            "   macro avg       0.60      0.74      0.50    114333\n",
            "weighted avg       0.90      0.55      0.62    114333\n",
            "\n"
          ]
        }
      ],
      "source": [
        "naive_bayes_model(gaussian_model, X_train_os, X_test, Y_train_os, Y_test)"
      ]
    },
    {
      "cell_type": "markdown",
      "metadata": {
        "id": "HF5HAXme5gA9"
      },
      "source": [
        "## Logistic Regression"
      ]
    },
    {
      "cell_type": "code",
      "execution_count": null,
      "metadata": {
        "id": "tE53QeJ067jY"
      },
      "outputs": [],
      "source": [
        "lgr_lasso = LogisticRegression(penalty='l1', random_state=2, solver='saga')"
      ]
    },
    {
      "cell_type": "code",
      "execution_count": null,
      "metadata": {
        "id": "Kr4G3Z5I6-9o"
      },
      "outputs": [],
      "source": [
        "lgr_ridge = LogisticRegression(penalty='l2', random_state=2)"
      ]
    },
    {
      "cell_type": "code",
      "execution_count": null,
      "metadata": {
        "id": "WIPdHy-E4kfF"
      },
      "outputs": [],
      "source": [
        "lgr_elasticnet = LogisticRegression(penalty='elasticnet', random_state=2, solver='saga', l1_ratio=0)"
      ]
    },
    {
      "cell_type": "code",
      "execution_count": null,
      "metadata": {
        "id": "ddukawcE7WE9"
      },
      "outputs": [],
      "source": [
        "# logistic_regression(lgr_lasso, X_train_scaled, X_test_scaled, Y_train, Y_test)"
      ]
    },
    {
      "cell_type": "code",
      "execution_count": null,
      "metadata": {
        "colab": {
          "base_uri": "https://localhost:8080/"
        },
        "id": "XGtDMprlA7hs",
        "outputId": "c137a18f-f8ba-46f6-96f8-26d32085d45c"
      },
      "outputs": [
        {
          "name": "stdout",
          "output_type": "stream",
          "text": [
            "Model\n",
            " LogisticRegression(penalty='l1', random_state=2, solver='saga')\n",
            "Training Model...\n",
            "\n"
          ]
        },
        {
          "name": "stderr",
          "output_type": "stream",
          "text": [
            "/usr/local/lib/python3.8/dist-packages/sklearn/linear_model/_sag.py:352: ConvergenceWarning: The max_iter was reached which means the coef_ did not converge\n",
            "  warnings.warn(\n"
          ]
        },
        {
          "name": "stdout",
          "output_type": "stream",
          "text": [
            "Model Prediction...\n",
            "Y_train_Pred\n",
            "Confusion Matrix\n",
            " [[154067  80012]\n",
            " [ 12608 221471]]\n",
            "--------------------------------------------------------------------------------\n",
            "Accuracy Score\n",
            " 0.8021608089576596\n",
            "--------------------------------------------------------------------------------\n",
            "Classification Report\n",
            "               precision    recall  f1-score   support\n",
            "\n",
            "           0       0.92      0.66      0.77    234079\n",
            "           1       0.73      0.95      0.83    234079\n",
            "\n",
            "    accuracy                           0.80    468158\n",
            "   macro avg       0.83      0.80      0.80    468158\n",
            "weighted avg       0.83      0.80      0.80    468158\n",
            "\n",
            "--------------------------------------------------------------------------------\n",
            "ROC_AUC\n",
            "0.8529611666651219\n",
            "================================================================================\n",
            "Y_test_Pred\n",
            "Confusion Matrix\n",
            " [[65814 34506]\n",
            " [  919 13094]]\n",
            "--------------------------------------------------------------------------------\n",
            "Accuracy Score\n",
            " 0.6901594465289986\n",
            "--------------------------------------------------------------------------------\n",
            "Classification Report\n",
            "               precision    recall  f1-score   support\n",
            "\n",
            "           0       0.99      0.66      0.79    100320\n",
            "           1       0.28      0.93      0.43     14013\n",
            "\n",
            "    accuracy                           0.69    114333\n",
            "   macro avg       0.63      0.80      0.61    114333\n",
            "weighted avg       0.90      0.69      0.74    114333\n",
            "\n",
            "--------------------------------------------------------------------------------\n",
            "ROC_AUC\n",
            "\n",
            "0.8485588441969643\n"
          ]
        }
      ],
      "source": [
        "logistic_regression(lgr_lasso, X_train_sc_os, X_test_scaled, Y_train_sc_os, Y_test)"
      ]
    },
    {
      "cell_type": "code",
      "execution_count": null,
      "metadata": {
        "id": "YPZtxIVx8oYp"
      },
      "outputs": [],
      "source": [
        "# logistic_regression(lgr_elasticnet, X_train_scaled, X_test_scaled, Y_train, Y_test)"
      ]
    },
    {
      "cell_type": "code",
      "execution_count": null,
      "metadata": {
        "colab": {
          "base_uri": "https://localhost:8080/"
        },
        "id": "UpmN1tXJ_Nwg",
        "outputId": "97e342b1-f222-48a4-d0a9-d5943016dafc"
      },
      "outputs": [
        {
          "name": "stdout",
          "output_type": "stream",
          "text": [
            "Model\n",
            " LogisticRegression(l1_ratio=0, penalty='elasticnet', random_state=2,\n",
            "                   solver='saga')\n",
            "Training Model...\n",
            "\n"
          ]
        },
        {
          "name": "stderr",
          "output_type": "stream",
          "text": [
            "/usr/local/lib/python3.8/dist-packages/sklearn/linear_model/_sag.py:352: ConvergenceWarning: The max_iter was reached which means the coef_ did not converge\n",
            "  warnings.warn(\n"
          ]
        },
        {
          "name": "stdout",
          "output_type": "stream",
          "text": [
            "Model Prediction...\n",
            "Y_train_Pred\n",
            "Confusion Matrix\n",
            " [[154069  80010]\n",
            " [ 12613 221466]]\n",
            "--------------------------------------------------------------------------------\n",
            "Accuracy Score\n",
            " 0.8021544008646654\n",
            "--------------------------------------------------------------------------------\n",
            "Classification Report\n",
            "               precision    recall  f1-score   support\n",
            "\n",
            "           0       0.92      0.66      0.77    234079\n",
            "           1       0.73      0.95      0.83    234079\n",
            "\n",
            "    accuracy                           0.80    468158\n",
            "   macro avg       0.83      0.80      0.80    468158\n",
            "weighted avg       0.83      0.80      0.80    468158\n",
            "\n",
            "--------------------------------------------------------------------------------\n",
            "ROC_AUC\n",
            "0.8529615987642843\n",
            "================================================================================\n",
            "Y_test_Pred\n",
            "Confusion Matrix\n",
            " [[65815 34505]\n",
            " [  919 13094]]\n",
            "--------------------------------------------------------------------------------\n",
            "Accuracy Score\n",
            " 0.6901681929101834\n",
            "--------------------------------------------------------------------------------\n",
            "Classification Report\n",
            "               precision    recall  f1-score   support\n",
            "\n",
            "           0       0.99      0.66      0.79    100320\n",
            "           1       0.28      0.93      0.43     14013\n",
            "\n",
            "    accuracy                           0.69    114333\n",
            "   macro avg       0.63      0.80      0.61    114333\n",
            "weighted avg       0.90      0.69      0.74    114333\n",
            "\n",
            "--------------------------------------------------------------------------------\n",
            "ROC_AUC\n",
            "\n",
            "0.8485563601740967\n"
          ]
        }
      ],
      "source": [
        "logistic_regression(lgr_elasticnet, X_train_sc_os, X_test_scaled, Y_train_sc_os, Y_test)"
      ]
    },
    {
      "cell_type": "code",
      "execution_count": null,
      "metadata": {
        "colab": {
          "base_uri": "https://localhost:8080/"
        },
        "id": "a5HOcQvPAOeo",
        "outputId": "01586e3c-cf54-44b5-f7f9-f9b90859af21"
      },
      "outputs": [
        {
          "name": "stdout",
          "output_type": "stream",
          "text": [
            "Model\n",
            " LogisticRegression(random_state=2)\n",
            "Training Model...\n",
            "\n",
            "Model Prediction...\n",
            "Y_train_Pred\n",
            "Confusion Matrix\n",
            " [[154353  79726]\n",
            " [ 12835 221244]]\n",
            "--------------------------------------------------------------------------------\n",
            "Accuracy Score\n",
            " 0.8022868347865464\n",
            "--------------------------------------------------------------------------------\n",
            "Classification Report\n",
            "               precision    recall  f1-score   support\n",
            "\n",
            "           0       0.92      0.66      0.77    234079\n",
            "           1       0.74      0.95      0.83    234079\n",
            "\n",
            "    accuracy                           0.80    468158\n",
            "   macro avg       0.83      0.80      0.80    468158\n",
            "weighted avg       0.83      0.80      0.80    468158\n",
            "\n",
            "--------------------------------------------------------------------------------\n",
            "ROC_AUC\n",
            "0.8530606582090206\n",
            "================================================================================\n",
            "Y_test_Pred\n",
            "Confusion Matrix\n",
            " [[65945 34375]\n",
            " [  930 13083]]\n",
            "--------------------------------------------------------------------------------\n",
            "Accuracy Score\n",
            " 0.6912090122711728\n",
            "--------------------------------------------------------------------------------\n",
            "Classification Report\n",
            "               precision    recall  f1-score   support\n",
            "\n",
            "           0       0.99      0.66      0.79    100320\n",
            "           1       0.28      0.93      0.43     14013\n",
            "\n",
            "    accuracy                           0.69    114333\n",
            "   macro avg       0.63      0.80      0.61    114333\n",
            "weighted avg       0.90      0.69      0.74    114333\n",
            "\n",
            "--------------------------------------------------------------------------------\n",
            "ROC_AUC\n",
            "\n",
            "0.8483908219594677\n"
          ]
        }
      ],
      "source": [
        "logistic_regression(lgr_ridge, X_train_sc_os, X_test_scaled, Y_train_sc_os, Y_test)"
      ]
    },
    {
      "cell_type": "code",
      "execution_count": null,
      "metadata": {
        "id": "rKeF50BkFIxV"
      },
      "outputs": [],
      "source": [
        "# logistic_regression(lgr_ridge, X_train_sc_us, X_test_scaled, Y_train_sc_us, Y_test)"
      ]
    },
    {
      "cell_type": "markdown",
      "metadata": {
        "id": "pT51snsXF9q9"
      },
      "source": [
        "# Prediction"
      ]
    },
    {
      "cell_type": "code",
      "execution_count": null,
      "metadata": {
        "colab": {
          "base_uri": "https://localhost:8080/",
          "height": 488
        },
        "id": "c5LXUdfRF75S",
        "outputId": "3c768abd-e69d-41c5-b355-4bec66ec69f8"
      },
      "outputs": [
        {
          "data": {
            "text/html": [
              "\n",
              "  <div id=\"df-17c84d83-27e4-4f6d-8925-5f1d29897f1e\">\n",
              "    <div class=\"colab-df-container\">\n",
              "      <div>\n",
              "<style scoped>\n",
              "    .dataframe tbody tr th:only-of-type {\n",
              "        vertical-align: middle;\n",
              "    }\n",
              "\n",
              "    .dataframe tbody tr th {\n",
              "        vertical-align: top;\n",
              "    }\n",
              "\n",
              "    .dataframe thead th {\n",
              "        text-align: right;\n",
              "    }\n",
              "</style>\n",
              "<table border=\"1\" class=\"dataframe\">\n",
              "  <thead>\n",
              "    <tr style=\"text-align: right;\">\n",
              "      <th></th>\n",
              "      <th>Gender</th>\n",
              "      <th>Age</th>\n",
              "      <th>Driving_License</th>\n",
              "      <th>Previously_Insured</th>\n",
              "      <th>Vehicle_Age</th>\n",
              "      <th>Vehicle_Damage</th>\n",
              "      <th>Annual_Premium</th>\n",
              "      <th>Vintage</th>\n",
              "      <th>Region_Code_1.0</th>\n",
              "      <th>Region_Code_2.0</th>\n",
              "      <th>...</th>\n",
              "      <th>Policy_Sales_Channel_144.0</th>\n",
              "      <th>Policy_Sales_Channel_149.0</th>\n",
              "      <th>Policy_Sales_Channel_27.0</th>\n",
              "      <th>Policy_Sales_Channel_28.0</th>\n",
              "      <th>Policy_Sales_Channel_41.0</th>\n",
              "      <th>Policy_Sales_Channel_50.0</th>\n",
              "      <th>Policy_Sales_Channel_67.0</th>\n",
              "      <th>Policy_Sales_Channel_68.0</th>\n",
              "      <th>Policy_Sales_Channel_75.0</th>\n",
              "      <th>Policy_Sales_Channel_84.0</th>\n",
              "    </tr>\n",
              "  </thead>\n",
              "  <tbody>\n",
              "    <tr>\n",
              "      <th>0</th>\n",
              "      <td>1</td>\n",
              "      <td>25</td>\n",
              "      <td>1</td>\n",
              "      <td>1</td>\n",
              "      <td>0</td>\n",
              "      <td>0</td>\n",
              "      <td>35786.0</td>\n",
              "      <td>53</td>\n",
              "      <td>0</td>\n",
              "      <td>0</td>\n",
              "      <td>...</td>\n",
              "      <td>0</td>\n",
              "      <td>0</td>\n",
              "      <td>0</td>\n",
              "      <td>0</td>\n",
              "      <td>0</td>\n",
              "      <td>0</td>\n",
              "      <td>0</td>\n",
              "      <td>0</td>\n",
              "      <td>0</td>\n",
              "      <td>0</td>\n",
              "    </tr>\n",
              "    <tr>\n",
              "      <th>1</th>\n",
              "      <td>1</td>\n",
              "      <td>40</td>\n",
              "      <td>1</td>\n",
              "      <td>0</td>\n",
              "      <td>1</td>\n",
              "      <td>1</td>\n",
              "      <td>33762.0</td>\n",
              "      <td>111</td>\n",
              "      <td>0</td>\n",
              "      <td>0</td>\n",
              "      <td>...</td>\n",
              "      <td>0</td>\n",
              "      <td>0</td>\n",
              "      <td>0</td>\n",
              "      <td>0</td>\n",
              "      <td>0</td>\n",
              "      <td>0</td>\n",
              "      <td>0</td>\n",
              "      <td>0</td>\n",
              "      <td>0</td>\n",
              "      <td>0</td>\n",
              "    </tr>\n",
              "    <tr>\n",
              "      <th>2</th>\n",
              "      <td>1</td>\n",
              "      <td>47</td>\n",
              "      <td>1</td>\n",
              "      <td>0</td>\n",
              "      <td>1</td>\n",
              "      <td>1</td>\n",
              "      <td>40050.0</td>\n",
              "      <td>199</td>\n",
              "      <td>0</td>\n",
              "      <td>0</td>\n",
              "      <td>...</td>\n",
              "      <td>0</td>\n",
              "      <td>0</td>\n",
              "      <td>0</td>\n",
              "      <td>0</td>\n",
              "      <td>0</td>\n",
              "      <td>0</td>\n",
              "      <td>0</td>\n",
              "      <td>0</td>\n",
              "      <td>0</td>\n",
              "      <td>0</td>\n",
              "    </tr>\n",
              "    <tr>\n",
              "      <th>3</th>\n",
              "      <td>1</td>\n",
              "      <td>24</td>\n",
              "      <td>1</td>\n",
              "      <td>1</td>\n",
              "      <td>0</td>\n",
              "      <td>1</td>\n",
              "      <td>37356.0</td>\n",
              "      <td>187</td>\n",
              "      <td>0</td>\n",
              "      <td>0</td>\n",
              "      <td>...</td>\n",
              "      <td>0</td>\n",
              "      <td>0</td>\n",
              "      <td>0</td>\n",
              "      <td>0</td>\n",
              "      <td>0</td>\n",
              "      <td>0</td>\n",
              "      <td>0</td>\n",
              "      <td>0</td>\n",
              "      <td>0</td>\n",
              "      <td>0</td>\n",
              "    </tr>\n",
              "    <tr>\n",
              "      <th>4</th>\n",
              "      <td>1</td>\n",
              "      <td>27</td>\n",
              "      <td>1</td>\n",
              "      <td>1</td>\n",
              "      <td>0</td>\n",
              "      <td>0</td>\n",
              "      <td>59097.0</td>\n",
              "      <td>297</td>\n",
              "      <td>0</td>\n",
              "      <td>0</td>\n",
              "      <td>...</td>\n",
              "      <td>0</td>\n",
              "      <td>0</td>\n",
              "      <td>0</td>\n",
              "      <td>0</td>\n",
              "      <td>0</td>\n",
              "      <td>0</td>\n",
              "      <td>0</td>\n",
              "      <td>0</td>\n",
              "      <td>0</td>\n",
              "      <td>0</td>\n",
              "    </tr>\n",
              "    <tr>\n",
              "      <th>...</th>\n",
              "      <td>...</td>\n",
              "      <td>...</td>\n",
              "      <td>...</td>\n",
              "      <td>...</td>\n",
              "      <td>...</td>\n",
              "      <td>...</td>\n",
              "      <td>...</td>\n",
              "      <td>...</td>\n",
              "      <td>...</td>\n",
              "      <td>...</td>\n",
              "      <td>...</td>\n",
              "      <td>...</td>\n",
              "      <td>...</td>\n",
              "      <td>...</td>\n",
              "      <td>...</td>\n",
              "      <td>...</td>\n",
              "      <td>...</td>\n",
              "      <td>...</td>\n",
              "      <td>...</td>\n",
              "      <td>...</td>\n",
              "      <td>...</td>\n",
              "    </tr>\n",
              "    <tr>\n",
              "      <th>127032</th>\n",
              "      <td>0</td>\n",
              "      <td>26</td>\n",
              "      <td>1</td>\n",
              "      <td>1</td>\n",
              "      <td>0</td>\n",
              "      <td>0</td>\n",
              "      <td>30867.0</td>\n",
              "      <td>56</td>\n",
              "      <td>0</td>\n",
              "      <td>0</td>\n",
              "      <td>...</td>\n",
              "      <td>0</td>\n",
              "      <td>0</td>\n",
              "      <td>0</td>\n",
              "      <td>0</td>\n",
              "      <td>0</td>\n",
              "      <td>0</td>\n",
              "      <td>0</td>\n",
              "      <td>0</td>\n",
              "      <td>0</td>\n",
              "      <td>0</td>\n",
              "    </tr>\n",
              "    <tr>\n",
              "      <th>127033</th>\n",
              "      <td>0</td>\n",
              "      <td>38</td>\n",
              "      <td>1</td>\n",
              "      <td>0</td>\n",
              "      <td>1</td>\n",
              "      <td>1</td>\n",
              "      <td>28700.0</td>\n",
              "      <td>165</td>\n",
              "      <td>0</td>\n",
              "      <td>0</td>\n",
              "      <td>...</td>\n",
              "      <td>0</td>\n",
              "      <td>0</td>\n",
              "      <td>0</td>\n",
              "      <td>0</td>\n",
              "      <td>0</td>\n",
              "      <td>0</td>\n",
              "      <td>0</td>\n",
              "      <td>0</td>\n",
              "      <td>0</td>\n",
              "      <td>0</td>\n",
              "    </tr>\n",
              "    <tr>\n",
              "      <th>127034</th>\n",
              "      <td>1</td>\n",
              "      <td>21</td>\n",
              "      <td>1</td>\n",
              "      <td>1</td>\n",
              "      <td>0</td>\n",
              "      <td>0</td>\n",
              "      <td>29802.0</td>\n",
              "      <td>74</td>\n",
              "      <td>0</td>\n",
              "      <td>0</td>\n",
              "      <td>...</td>\n",
              "      <td>0</td>\n",
              "      <td>0</td>\n",
              "      <td>0</td>\n",
              "      <td>0</td>\n",
              "      <td>0</td>\n",
              "      <td>0</td>\n",
              "      <td>0</td>\n",
              "      <td>0</td>\n",
              "      <td>0</td>\n",
              "      <td>0</td>\n",
              "    </tr>\n",
              "    <tr>\n",
              "      <th>127035</th>\n",
              "      <td>1</td>\n",
              "      <td>71</td>\n",
              "      <td>1</td>\n",
              "      <td>1</td>\n",
              "      <td>1</td>\n",
              "      <td>0</td>\n",
              "      <td>62875.0</td>\n",
              "      <td>265</td>\n",
              "      <td>0</td>\n",
              "      <td>0</td>\n",
              "      <td>...</td>\n",
              "      <td>0</td>\n",
              "      <td>0</td>\n",
              "      <td>0</td>\n",
              "      <td>0</td>\n",
              "      <td>0</td>\n",
              "      <td>0</td>\n",
              "      <td>0</td>\n",
              "      <td>0</td>\n",
              "      <td>0</td>\n",
              "      <td>0</td>\n",
              "    </tr>\n",
              "    <tr>\n",
              "      <th>127036</th>\n",
              "      <td>1</td>\n",
              "      <td>41</td>\n",
              "      <td>1</td>\n",
              "      <td>1</td>\n",
              "      <td>1</td>\n",
              "      <td>0</td>\n",
              "      <td>27927.0</td>\n",
              "      <td>231</td>\n",
              "      <td>0</td>\n",
              "      <td>0</td>\n",
              "      <td>...</td>\n",
              "      <td>0</td>\n",
              "      <td>0</td>\n",
              "      <td>0</td>\n",
              "      <td>0</td>\n",
              "      <td>0</td>\n",
              "      <td>0</td>\n",
              "      <td>0</td>\n",
              "      <td>0</td>\n",
              "      <td>0</td>\n",
              "      <td>0</td>\n",
              "    </tr>\n",
              "  </tbody>\n",
              "</table>\n",
              "<p>127037 rows × 216 columns</p>\n",
              "</div>\n",
              "      <button class=\"colab-df-convert\" onclick=\"convertToInteractive('df-17c84d83-27e4-4f6d-8925-5f1d29897f1e')\"\n",
              "              title=\"Convert this dataframe to an interactive table.\"\n",
              "              style=\"display:none;\">\n",
              "        \n",
              "  <svg xmlns=\"http://www.w3.org/2000/svg\" height=\"24px\"viewBox=\"0 0 24 24\"\n",
              "       width=\"24px\">\n",
              "    <path d=\"M0 0h24v24H0V0z\" fill=\"none\"/>\n",
              "    <path d=\"M18.56 5.44l.94 2.06.94-2.06 2.06-.94-2.06-.94-.94-2.06-.94 2.06-2.06.94zm-11 1L8.5 8.5l.94-2.06 2.06-.94-2.06-.94L8.5 2.5l-.94 2.06-2.06.94zm10 10l.94 2.06.94-2.06 2.06-.94-2.06-.94-.94-2.06-.94 2.06-2.06.94z\"/><path d=\"M17.41 7.96l-1.37-1.37c-.4-.4-.92-.59-1.43-.59-.52 0-1.04.2-1.43.59L10.3 9.45l-7.72 7.72c-.78.78-.78 2.05 0 2.83L4 21.41c.39.39.9.59 1.41.59.51 0 1.02-.2 1.41-.59l7.78-7.78 2.81-2.81c.8-.78.8-2.07 0-2.86zM5.41 20L4 18.59l7.72-7.72 1.47 1.35L5.41 20z\"/>\n",
              "  </svg>\n",
              "      </button>\n",
              "      \n",
              "  <style>\n",
              "    .colab-df-container {\n",
              "      display:flex;\n",
              "      flex-wrap:wrap;\n",
              "      gap: 12px;\n",
              "    }\n",
              "\n",
              "    .colab-df-convert {\n",
              "      background-color: #E8F0FE;\n",
              "      border: none;\n",
              "      border-radius: 50%;\n",
              "      cursor: pointer;\n",
              "      display: none;\n",
              "      fill: #1967D2;\n",
              "      height: 32px;\n",
              "      padding: 0 0 0 0;\n",
              "      width: 32px;\n",
              "    }\n",
              "\n",
              "    .colab-df-convert:hover {\n",
              "      background-color: #E2EBFA;\n",
              "      box-shadow: 0px 1px 2px rgba(60, 64, 67, 0.3), 0px 1px 3px 1px rgba(60, 64, 67, 0.15);\n",
              "      fill: #174EA6;\n",
              "    }\n",
              "\n",
              "    [theme=dark] .colab-df-convert {\n",
              "      background-color: #3B4455;\n",
              "      fill: #D2E3FC;\n",
              "    }\n",
              "\n",
              "    [theme=dark] .colab-df-convert:hover {\n",
              "      background-color: #434B5C;\n",
              "      box-shadow: 0px 1px 3px 1px rgba(0, 0, 0, 0.15);\n",
              "      filter: drop-shadow(0px 1px 2px rgba(0, 0, 0, 0.3));\n",
              "      fill: #FFFFFF;\n",
              "    }\n",
              "  </style>\n",
              "\n",
              "      <script>\n",
              "        const buttonEl =\n",
              "          document.querySelector('#df-17c84d83-27e4-4f6d-8925-5f1d29897f1e button.colab-df-convert');\n",
              "        buttonEl.style.display =\n",
              "          google.colab.kernel.accessAllowed ? 'block' : 'none';\n",
              "\n",
              "        async function convertToInteractive(key) {\n",
              "          const element = document.querySelector('#df-17c84d83-27e4-4f6d-8925-5f1d29897f1e');\n",
              "          const dataTable =\n",
              "            await google.colab.kernel.invokeFunction('convertToInteractive',\n",
              "                                                     [key], {});\n",
              "          if (!dataTable) return;\n",
              "\n",
              "          const docLinkHtml = 'Like what you see? Visit the ' +\n",
              "            '<a target=\"_blank\" href=https://colab.research.google.com/notebooks/data_table.ipynb>data table notebook</a>'\n",
              "            + ' to learn more about interactive tables.';\n",
              "          element.innerHTML = '';\n",
              "          dataTable['output_type'] = 'display_data';\n",
              "          await google.colab.output.renderOutput(dataTable, element);\n",
              "          const docLink = document.createElement('div');\n",
              "          docLink.innerHTML = docLinkHtml;\n",
              "          element.appendChild(docLink);\n",
              "        }\n",
              "      </script>\n",
              "    </div>\n",
              "  </div>\n",
              "  "
            ],
            "text/plain": [
              "        Gender  Age  Driving_License  Previously_Insured  Vehicle_Age  \\\n",
              "0            1   25                1                   1            0   \n",
              "1            1   40                1                   0            1   \n",
              "2            1   47                1                   0            1   \n",
              "3            1   24                1                   1            0   \n",
              "4            1   27                1                   1            0   \n",
              "...        ...  ...              ...                 ...          ...   \n",
              "127032       0   26                1                   1            0   \n",
              "127033       0   38                1                   0            1   \n",
              "127034       1   21                1                   1            0   \n",
              "127035       1   71                1                   1            1   \n",
              "127036       1   41                1                   1            1   \n",
              "\n",
              "        Vehicle_Damage  Annual_Premium  Vintage  Region_Code_1.0  \\\n",
              "0                    0         35786.0       53                0   \n",
              "1                    1         33762.0      111                0   \n",
              "2                    1         40050.0      199                0   \n",
              "3                    1         37356.0      187                0   \n",
              "4                    0         59097.0      297                0   \n",
              "...                ...             ...      ...              ...   \n",
              "127032               0         30867.0       56                0   \n",
              "127033               1         28700.0      165                0   \n",
              "127034               0         29802.0       74                0   \n",
              "127035               0         62875.0      265                0   \n",
              "127036               0         27927.0      231                0   \n",
              "\n",
              "        Region_Code_2.0  ...  Policy_Sales_Channel_144.0  \\\n",
              "0                     0  ...                           0   \n",
              "1                     0  ...                           0   \n",
              "2                     0  ...                           0   \n",
              "3                     0  ...                           0   \n",
              "4                     0  ...                           0   \n",
              "...                 ...  ...                         ...   \n",
              "127032                0  ...                           0   \n",
              "127033                0  ...                           0   \n",
              "127034                0  ...                           0   \n",
              "127035                0  ...                           0   \n",
              "127036                0  ...                           0   \n",
              "\n",
              "        Policy_Sales_Channel_149.0  Policy_Sales_Channel_27.0  \\\n",
              "0                                0                          0   \n",
              "1                                0                          0   \n",
              "2                                0                          0   \n",
              "3                                0                          0   \n",
              "4                                0                          0   \n",
              "...                            ...                        ...   \n",
              "127032                           0                          0   \n",
              "127033                           0                          0   \n",
              "127034                           0                          0   \n",
              "127035                           0                          0   \n",
              "127036                           0                          0   \n",
              "\n",
              "        Policy_Sales_Channel_28.0  Policy_Sales_Channel_41.0  \\\n",
              "0                               0                          0   \n",
              "1                               0                          0   \n",
              "2                               0                          0   \n",
              "3                               0                          0   \n",
              "4                               0                          0   \n",
              "...                           ...                        ...   \n",
              "127032                          0                          0   \n",
              "127033                          0                          0   \n",
              "127034                          0                          0   \n",
              "127035                          0                          0   \n",
              "127036                          0                          0   \n",
              "\n",
              "        Policy_Sales_Channel_50.0  Policy_Sales_Channel_67.0  \\\n",
              "0                               0                          0   \n",
              "1                               0                          0   \n",
              "2                               0                          0   \n",
              "3                               0                          0   \n",
              "4                               0                          0   \n",
              "...                           ...                        ...   \n",
              "127032                          0                          0   \n",
              "127033                          0                          0   \n",
              "127034                          0                          0   \n",
              "127035                          0                          0   \n",
              "127036                          0                          0   \n",
              "\n",
              "        Policy_Sales_Channel_68.0  Policy_Sales_Channel_75.0  \\\n",
              "0                               0                          0   \n",
              "1                               0                          0   \n",
              "2                               0                          0   \n",
              "3                               0                          0   \n",
              "4                               0                          0   \n",
              "...                           ...                        ...   \n",
              "127032                          0                          0   \n",
              "127033                          0                          0   \n",
              "127034                          0                          0   \n",
              "127035                          0                          0   \n",
              "127036                          0                          0   \n",
              "\n",
              "        Policy_Sales_Channel_84.0  \n",
              "0                               0  \n",
              "1                               0  \n",
              "2                               0  \n",
              "3                               0  \n",
              "4                               0  \n",
              "...                           ...  \n",
              "127032                          0  \n",
              "127033                          0  \n",
              "127034                          0  \n",
              "127035                          0  \n",
              "127036                          0  \n",
              "\n",
              "[127037 rows x 216 columns]"
            ]
          },
          "execution_count": 51,
          "metadata": {},
          "output_type": "execute_result"
        }
      ],
      "source": [
        "test_ = test_ohe.iloc[:, 1:]\n",
        "test_['Policy_Sales_Channel_104.0'] = 0\n",
        "test_['Policy_Sales_Channel_143.0'] = 0\n",
        "test_['Policy_Sales_Channel_144.0'] = 0\n",
        "test_['Policy_Sales_Channel_149.0'] = 0\n",
        "test_['Policy_Sales_Channel_27.0'] = 0\n",
        "test_['Policy_Sales_Channel_28.0'] = 0\n",
        "test_['Policy_Sales_Channel_41.0'] = 0\n",
        "test_['Policy_Sales_Channel_50.0'] = 0\n",
        "test_['Policy_Sales_Channel_67.0'] = 0\n",
        "test_['Policy_Sales_Channel_68.0'] = 0\n",
        "test_['Policy_Sales_Channel_75.0'] = 0\n",
        "test_['Policy_Sales_Channel_84.0'] = 0\n",
        "test_"
      ]
    },
    {
      "cell_type": "code",
      "execution_count": null,
      "metadata": {
        "colab": {
          "base_uri": "https://localhost:8080/"
        },
        "id": "vnho13wwFS6G",
        "outputId": "927420dc-8f1d-4d71-bc75-956eebb36f20"
      },
      "outputs": [
        {
          "name": "stderr",
          "output_type": "stream",
          "text": [
            "/usr/local/lib/python3.8/dist-packages/sklearn/base.py:493: FutureWarning: The feature names should match those that were passed during fit. Starting version 1.2, an error will be raised.\n",
            "Feature names must be in the same order as they were in fit.\n",
            "\n",
            "  warnings.warn(message, FutureWarning)\n"
          ]
        }
      ],
      "source": [
        "test_scaled = std_scaler.transform(test_)"
      ]
    },
    {
      "cell_type": "code",
      "execution_count": null,
      "metadata": {
        "id": "8yfEfqQ0GRnT"
      },
      "outputs": [],
      "source": [
        "pred = lgr_elasticnet.predict(test_scaled)"
      ]
    },
    {
      "cell_type": "code",
      "execution_count": null,
      "metadata": {
        "colab": {
          "base_uri": "https://localhost:8080/"
        },
        "id": "qrGfOJzlLdxk",
        "outputId": "8ef71b20-88b5-43df-fbb5-adc9b000e233"
      },
      "outputs": [
        {
          "data": {
            "text/plain": [
              "array([0, 1, 0, ..., 0, 0, 0])"
            ]
          },
          "execution_count": 56,
          "metadata": {},
          "output_type": "execute_result"
        }
      ],
      "source": [
        "pred"
      ]
    },
    {
      "cell_type": "code",
      "execution_count": null,
      "metadata": {
        "colab": {
          "base_uri": "https://localhost:8080/"
        },
        "id": "pdE211Q5Lfq9",
        "outputId": "f7f394a3-9dbc-4520-851e-a2828685892b"
      },
      "outputs": [
        {
          "data": {
            "text/plain": [
              "id      Response\n",
              "381110  0           1\n",
              "465797  0           1\n",
              "465810  0           1\n",
              "465809  1           1\n",
              "465808  0           1\n",
              "                   ..\n",
              "423451  1           1\n",
              "423450  1           1\n",
              "423449  0           1\n",
              "423448  0           1\n",
              "508146  0           1\n",
              "Length: 127037, dtype: int64"
            ]
          },
          "execution_count": 59,
          "metadata": {},
          "output_type": "execute_result"
        }
      ],
      "source": [
        "pred_df = pd.DataFrame()\n",
        "pred_df['id'] = test_ohe['id']\n",
        "pred_df['Response'] = pred.tolist()\n",
        "pred_df.value_counts()"
      ]
    },
    {
      "cell_type": "code",
      "execution_count": null,
      "metadata": {
        "id": "_WcAVt9BL_oG"
      },
      "outputs": [],
      "source": [
        "pred_df.to_csv(r'/content/gdrive/MyDrive/Datasets/CrossSell-Prediction/CrossSellPrediction_submission.csv', index=None)"
      ]
    },
    {
      "cell_type": "code",
      "execution_count": null,
      "metadata": {
        "id": "EhEzE-BUNGbr"
      },
      "outputs": [],
      "source": []
    }
  ],
  "metadata": {
    "accelerator": "GPU",
    "colab": {
      "provenance": [],
      "toc_visible": true
    },
    "gpuClass": "standard",
    "kernelspec": {
      "display_name": "Python 3.9.12 ('base')",
      "language": "python",
      "name": "python3"
    },
    "language_info": {
      "codemirror_mode": {
        "name": "ipython",
        "version": 3
      },
      "file_extension": ".py",
      "mimetype": "text/x-python",
      "name": "python",
      "nbconvert_exporter": "python",
      "pygments_lexer": "ipython3",
      "version": "3.9.12 (main, Apr  4 2022, 05:22:27) [MSC v.1916 64 bit (AMD64)]"
    },
    "orig_nbformat": 4,
    "vscode": {
      "interpreter": {
        "hash": "ad2bdc8ecc057115af97d19610ffacc2b4e99fae6737bb82f5d7fb13d2f2c186"
      }
    }
  },
  "nbformat": 4,
  "nbformat_minor": 0
}
